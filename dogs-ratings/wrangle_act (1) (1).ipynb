{
 "cells": [
  {
   "cell_type": "code",
   "execution_count": 9,
   "metadata": {},
   "outputs": [],
   "source": [
    "import pandas as pd\n",
    "import requests\n",
    "import json\n",
    "from timeit import default_timer as timer\n",
    "import matplotlib.pyplot as plt"
   ]
  },
  {
   "cell_type": "markdown",
   "metadata": {},
   "source": [
    "# Gathering"
   ]
  },
  {
   "cell_type": "code",
   "execution_count": 102,
   "metadata": {},
   "outputs": [],
   "source": [
    "#importing the file into a dataFrame\n",
    "arch_df =pd.read_csv('twitter-archive-enhanced.csv')"
   ]
  },
  {
   "cell_type": "code",
   "execution_count": 103,
   "metadata": {},
   "outputs": [],
   "source": [
    "#download the file programmaticly and import it into a dataFrame\n",
    "image_predictions_url='https://d17h27t6h515a5.cloudfront.net/topher/2017/August/599fd2ad_image-predictions/image-predictions.tsv'\n",
    "response=requests.get(image_predictions_url)\n",
    "with open('image_predictions.tsv','wb')as file:\n",
    "    file.write(response.content)\n",
    "   "
   ]
  },
  {
   "cell_type": "code",
   "execution_count": 104,
   "metadata": {},
   "outputs": [],
   "source": [
    "img_predectins_df=pd.read_csv('image_predictions.tsv',sep='\\t')\n"
   ]
  },
  {
   "cell_type": "code",
   "execution_count": 6,
   "metadata": {},
   "outputs": [
    {
     "ename": "NameError",
     "evalue": "name 'OAuthHandler' is not defined",
     "output_type": "error",
     "traceback": [
      "\u001b[1;31m---------------------------------------------------------------------------\u001b[0m",
      "\u001b[1;31mNameError\u001b[0m                                 Traceback (most recent call last)",
      "\u001b[1;32m<ipython-input-6-5d7cf1edbee3>\u001b[0m in \u001b[0;36m<module>\u001b[1;34m\u001b[0m\n\u001b[0;32m      4\u001b[0m \u001b[0maccess_secret\u001b[0m \u001b[1;33m=\u001b[0m \u001b[1;34m''\u001b[0m\u001b[1;33m\u001b[0m\u001b[1;33m\u001b[0m\u001b[0m\n\u001b[0;32m      5\u001b[0m \u001b[1;33m\u001b[0m\u001b[0m\n\u001b[1;32m----> 6\u001b[1;33m \u001b[0mauth\u001b[0m \u001b[1;33m=\u001b[0m \u001b[0mOAuthHandler\u001b[0m\u001b[1;33m(\u001b[0m\u001b[0mconsumer_key\u001b[0m\u001b[1;33m,\u001b[0m \u001b[0mconsumer_secret\u001b[0m\u001b[1;33m)\u001b[0m\u001b[1;33m\u001b[0m\u001b[1;33m\u001b[0m\u001b[0m\n\u001b[0m\u001b[0;32m      7\u001b[0m \u001b[0mauth\u001b[0m\u001b[1;33m.\u001b[0m\u001b[0mset_access_token\u001b[0m\u001b[1;33m(\u001b[0m\u001b[0maccess_token\u001b[0m\u001b[1;33m,\u001b[0m \u001b[0maccess_secret\u001b[0m\u001b[1;33m)\u001b[0m\u001b[1;33m\u001b[0m\u001b[1;33m\u001b[0m\u001b[0m\n\u001b[0;32m      8\u001b[0m \u001b[1;33m\u001b[0m\u001b[0m\n",
      "\u001b[1;31mNameError\u001b[0m: name 'OAuthHandler' is not defined"
     ]
    }
   ],
   "source": [
    "consumer_key = ''\n",
    "consumer_secret = ''\n",
    "access_token = ''\n",
    "access_secret = ''\n",
    "\n",
    "auth = OAuthHandler(consumer_key, consumer_secret)\n",
    "auth.set_access_token(access_token, access_secret)\n",
    "\n",
    "api = tweepy.API(auth, wait_on_rate_limit=True)\n",
    "\n",
    "# NOTE TO STUDENT WITH MOBILE VERIFICATION ISSUES:\n",
    "# df_1 is a DataFrame with the twitter_archive_enhanced.csv file. You may have to\n",
    "# change line 17 to match the name of your DataFrame with twitter_archive_enhanced.csv\n",
    "# NOTE TO REVIEWER: this student had mobile verification issues so the following\n",
    "# Twitter API code was sent to this student from a Udacity instructor\n",
    "# Tweet IDs for which to gather additional data via Twitter's API\n",
    "tweet_ids = df_1.tweet_id.values\n",
    "len(tweet_ids)\n",
    "\n",
    "# Query Twitter's API for JSON data for each tweet ID in the Twitter archive\n",
    "count = 0\n",
    "fails_dict = {}\n",
    "start = timer()\n",
    "# Save each tweet's returned JSON as a new line in a .txt file\n",
    "with open('tweet_json.txt', 'w') as outfile:\n",
    "    # This loop will likely take 20-30 minutes to run because of Twitter's rate limit\n",
    "    for tweet_id in tweet_ids:\n",
    "        count += 1\n",
    "        print(str(count) + \": \" + str(tweet_id))\n",
    "        try:\n",
    "            tweet = api.get_status(tweet_id, tweet_mode='extended')\n",
    "            print(\"Success\")\n",
    "            json.dump(tweet._json, outfile)\n",
    "            outfile.write('\\n')\n",
    "        except tweepy.TweepError as e:\n",
    "            print(\"Fail\")\n",
    "            fails_dict[tweet_id] = e\n",
    "            pass\n",
    "end = timer()\n",
    "print(end - start)\n",
    "print(fails_dict)\n"
   ]
  },
  {
   "cell_type": "code",
   "execution_count": 12,
   "metadata": {},
   "outputs": [],
   "source": [
    "#get data from json file to dataframe\n",
    "file_df=[]\n",
    "with open('tweet-json.txt','r')as tweet_json:\n",
    "    for line in tweet_json:\n",
    "        file_df.append(json.loads(line)) "
   ]
  },
  {
   "cell_type": "code",
   "execution_count": 13,
   "metadata": {},
   "outputs": [
    {
     "data": {
      "text/plain": [
       "{'created_at': 'Tue Aug 01 16:23:56 +0000 2017',\n",
       " 'id': 892420643555336193,\n",
       " 'id_str': '892420643555336193',\n",
       " 'full_text': \"This is Phineas. He's a mystical boy. Only ever appears in the hole of a donut. 13/10 https://t.co/MgUWQ76dJU\",\n",
       " 'truncated': False,\n",
       " 'display_text_range': [0, 85],\n",
       " 'entities': {'hashtags': [],\n",
       "  'symbols': [],\n",
       "  'user_mentions': [],\n",
       "  'urls': [],\n",
       "  'media': [{'id': 892420639486877696,\n",
       "    'id_str': '892420639486877696',\n",
       "    'indices': [86, 109],\n",
       "    'media_url': 'http://pbs.twimg.com/media/DGKD1-bXoAAIAUK.jpg',\n",
       "    'media_url_https': 'https://pbs.twimg.com/media/DGKD1-bXoAAIAUK.jpg',\n",
       "    'url': 'https://t.co/MgUWQ76dJU',\n",
       "    'display_url': 'pic.twitter.com/MgUWQ76dJU',\n",
       "    'expanded_url': 'https://twitter.com/dog_rates/status/892420643555336193/photo/1',\n",
       "    'type': 'photo',\n",
       "    'sizes': {'large': {'w': 540, 'h': 528, 'resize': 'fit'},\n",
       "     'thumb': {'w': 150, 'h': 150, 'resize': 'crop'},\n",
       "     'small': {'w': 540, 'h': 528, 'resize': 'fit'},\n",
       "     'medium': {'w': 540, 'h': 528, 'resize': 'fit'}}}]},\n",
       " 'extended_entities': {'media': [{'id': 892420639486877696,\n",
       "    'id_str': '892420639486877696',\n",
       "    'indices': [86, 109],\n",
       "    'media_url': 'http://pbs.twimg.com/media/DGKD1-bXoAAIAUK.jpg',\n",
       "    'media_url_https': 'https://pbs.twimg.com/media/DGKD1-bXoAAIAUK.jpg',\n",
       "    'url': 'https://t.co/MgUWQ76dJU',\n",
       "    'display_url': 'pic.twitter.com/MgUWQ76dJU',\n",
       "    'expanded_url': 'https://twitter.com/dog_rates/status/892420643555336193/photo/1',\n",
       "    'type': 'photo',\n",
       "    'sizes': {'large': {'w': 540, 'h': 528, 'resize': 'fit'},\n",
       "     'thumb': {'w': 150, 'h': 150, 'resize': 'crop'},\n",
       "     'small': {'w': 540, 'h': 528, 'resize': 'fit'},\n",
       "     'medium': {'w': 540, 'h': 528, 'resize': 'fit'}}}]},\n",
       " 'source': '<a href=\"http://twitter.com/download/iphone\" rel=\"nofollow\">Twitter for iPhone</a>',\n",
       " 'in_reply_to_status_id': None,\n",
       " 'in_reply_to_status_id_str': None,\n",
       " 'in_reply_to_user_id': None,\n",
       " 'in_reply_to_user_id_str': None,\n",
       " 'in_reply_to_screen_name': None,\n",
       " 'user': {'id': 4196983835,\n",
       "  'id_str': '4196983835',\n",
       "  'name': 'WeRateDogs™ (author)',\n",
       "  'screen_name': 'dog_rates',\n",
       "  'location': 'DM YOUR DOGS, WE WILL RATE',\n",
       "  'description': '#1 Source for Professional Dog Ratings | STORE: @ShopWeRateDogs | IG, FB & SC: WeRateDogs MOBILE APP: @GoodDogsGame | Business: dogratingtwitter@gmail.com',\n",
       "  'url': 'https://t.co/N7sNNHAEXS',\n",
       "  'entities': {'url': {'urls': [{'url': 'https://t.co/N7sNNHAEXS',\n",
       "      'expanded_url': 'http://weratedogs.com',\n",
       "      'display_url': 'weratedogs.com',\n",
       "      'indices': [0, 23]}]},\n",
       "   'description': {'urls': []}},\n",
       "  'protected': False,\n",
       "  'followers_count': 3200889,\n",
       "  'friends_count': 104,\n",
       "  'listed_count': 2784,\n",
       "  'created_at': 'Sun Nov 15 21:41:29 +0000 2015',\n",
       "  'favourites_count': 114031,\n",
       "  'utc_offset': None,\n",
       "  'time_zone': None,\n",
       "  'geo_enabled': True,\n",
       "  'verified': True,\n",
       "  'statuses_count': 5288,\n",
       "  'lang': 'en',\n",
       "  'contributors_enabled': False,\n",
       "  'is_translator': False,\n",
       "  'is_translation_enabled': False,\n",
       "  'profile_background_color': '000000',\n",
       "  'profile_background_image_url': 'http://abs.twimg.com/images/themes/theme1/bg.png',\n",
       "  'profile_background_image_url_https': 'https://abs.twimg.com/images/themes/theme1/bg.png',\n",
       "  'profile_background_tile': False,\n",
       "  'profile_image_url': 'http://pbs.twimg.com/profile_images/861415328504569856/R2xOOfwe_normal.jpg',\n",
       "  'profile_image_url_https': 'https://pbs.twimg.com/profile_images/861415328504569856/R2xOOfwe_normal.jpg',\n",
       "  'profile_banner_url': 'https://pbs.twimg.com/profile_banners/4196983835/1501129017',\n",
       "  'profile_link_color': 'F5ABB5',\n",
       "  'profile_sidebar_border_color': '000000',\n",
       "  'profile_sidebar_fill_color': '000000',\n",
       "  'profile_text_color': '000000',\n",
       "  'profile_use_background_image': False,\n",
       "  'has_extended_profile': True,\n",
       "  'default_profile': False,\n",
       "  'default_profile_image': False,\n",
       "  'following': True,\n",
       "  'follow_request_sent': False,\n",
       "  'notifications': False,\n",
       "  'translator_type': 'none'},\n",
       " 'geo': None,\n",
       " 'coordinates': None,\n",
       " 'place': None,\n",
       " 'contributors': None,\n",
       " 'is_quote_status': False,\n",
       " 'retweet_count': 8853,\n",
       " 'favorite_count': 39467,\n",
       " 'favorited': False,\n",
       " 'retweeted': False,\n",
       " 'possibly_sensitive': False,\n",
       " 'possibly_sensitive_appealable': False,\n",
       " 'lang': 'en'}"
      ]
     },
     "execution_count": 13,
     "metadata": {},
     "output_type": "execute_result"
    }
   ],
   "source": [
    "file_df[0]"
   ]
  },
  {
   "cell_type": "code",
   "execution_count": 105,
   "metadata": {},
   "outputs": [],
   "source": [
    "#creating the DF\n",
    "tweet_info=pd.DataFrame(file_df,columns=['id','retweet_count','favorite_count'])"
   ]
  },
  {
   "cell_type": "markdown",
   "metadata": {},
   "source": [
    "# Assessing Data "
   ]
  },
  {
   "cell_type": "code",
   "execution_count": 106,
   "metadata": {},
   "outputs": [
    {
     "data": {
      "text/html": [
       "<div>\n",
       "<style scoped>\n",
       "    .dataframe tbody tr th:only-of-type {\n",
       "        vertical-align: middle;\n",
       "    }\n",
       "\n",
       "    .dataframe tbody tr th {\n",
       "        vertical-align: top;\n",
       "    }\n",
       "\n",
       "    .dataframe thead th {\n",
       "        text-align: right;\n",
       "    }\n",
       "</style>\n",
       "<table border=\"1\" class=\"dataframe\">\n",
       "  <thead>\n",
       "    <tr style=\"text-align: right;\">\n",
       "      <th></th>\n",
       "      <th>id</th>\n",
       "      <th>retweet_count</th>\n",
       "      <th>favorite_count</th>\n",
       "    </tr>\n",
       "  </thead>\n",
       "  <tbody>\n",
       "    <tr>\n",
       "      <th>858</th>\n",
       "      <td>763167063695355904</td>\n",
       "      <td>3484</td>\n",
       "      <td>0</td>\n",
       "    </tr>\n",
       "    <tr>\n",
       "      <th>2210</th>\n",
       "      <td>668587383441514497</td>\n",
       "      <td>1174</td>\n",
       "      <td>1760</td>\n",
       "    </tr>\n",
       "    <tr>\n",
       "      <th>1965</th>\n",
       "      <td>673342308415348736</td>\n",
       "      <td>649</td>\n",
       "      <td>1362</td>\n",
       "    </tr>\n",
       "    <tr>\n",
       "      <th>1594</th>\n",
       "      <td>686286779679375361</td>\n",
       "      <td>1887</td>\n",
       "      <td>4392</td>\n",
       "    </tr>\n",
       "    <tr>\n",
       "      <th>1726</th>\n",
       "      <td>679872969355714560</td>\n",
       "      <td>749</td>\n",
       "      <td>2365</td>\n",
       "    </tr>\n",
       "  </tbody>\n",
       "</table>\n",
       "</div>"
      ],
      "text/plain": [
       "                      id  retweet_count  favorite_count\n",
       "858   763167063695355904           3484               0\n",
       "2210  668587383441514497           1174            1760\n",
       "1965  673342308415348736            649            1362\n",
       "1594  686286779679375361           1887            4392\n",
       "1726  679872969355714560            749            2365"
      ]
     },
     "execution_count": 106,
     "metadata": {},
     "output_type": "execute_result"
    }
   ],
   "source": [
    "tweet_info.sample(5)"
   ]
  },
  {
   "cell_type": "code",
   "execution_count": 16,
   "metadata": {},
   "outputs": [
    {
     "data": {
      "text/html": [
       "<div>\n",
       "<style scoped>\n",
       "    .dataframe tbody tr th:only-of-type {\n",
       "        vertical-align: middle;\n",
       "    }\n",
       "\n",
       "    .dataframe tbody tr th {\n",
       "        vertical-align: top;\n",
       "    }\n",
       "\n",
       "    .dataframe thead th {\n",
       "        text-align: right;\n",
       "    }\n",
       "</style>\n",
       "<table border=\"1\" class=\"dataframe\">\n",
       "  <thead>\n",
       "    <tr style=\"text-align: right;\">\n",
       "      <th></th>\n",
       "      <th>tweet_id</th>\n",
       "      <th>jpg_url</th>\n",
       "      <th>img_num</th>\n",
       "      <th>p1</th>\n",
       "      <th>p1_conf</th>\n",
       "      <th>p1_dog</th>\n",
       "      <th>p2</th>\n",
       "      <th>p2_conf</th>\n",
       "      <th>p2_dog</th>\n",
       "      <th>p3</th>\n",
       "      <th>p3_conf</th>\n",
       "      <th>p3_dog</th>\n",
       "    </tr>\n",
       "  </thead>\n",
       "  <tbody>\n",
       "    <tr>\n",
       "      <th>1567</th>\n",
       "      <td>794205286408003585</td>\n",
       "      <td>https://pbs.twimg.com/media/CwWVe_3WEAAHAvx.jpg</td>\n",
       "      <td>3</td>\n",
       "      <td>pedestal</td>\n",
       "      <td>0.662660</td>\n",
       "      <td>False</td>\n",
       "      <td>fountain</td>\n",
       "      <td>0.294827</td>\n",
       "      <td>False</td>\n",
       "      <td>brass</td>\n",
       "      <td>0.020371</td>\n",
       "      <td>False</td>\n",
       "    </tr>\n",
       "    <tr>\n",
       "      <th>810</th>\n",
       "      <td>692187005137076224</td>\n",
       "      <td>https://pbs.twimg.com/media/CZskaEIWIAUeTr5.jpg</td>\n",
       "      <td>2</td>\n",
       "      <td>Siberian_husky</td>\n",
       "      <td>0.810592</td>\n",
       "      <td>True</td>\n",
       "      <td>malamute</td>\n",
       "      <td>0.119745</td>\n",
       "      <td>True</td>\n",
       "      <td>Eskimo_dog</td>\n",
       "      <td>0.029265</td>\n",
       "      <td>True</td>\n",
       "    </tr>\n",
       "    <tr>\n",
       "      <th>142</th>\n",
       "      <td>668614819948453888</td>\n",
       "      <td>https://pbs.twimg.com/media/CUdloW8WEAAxB_Y.jpg</td>\n",
       "      <td>1</td>\n",
       "      <td>bustard</td>\n",
       "      <td>0.380772</td>\n",
       "      <td>False</td>\n",
       "      <td>pelican</td>\n",
       "      <td>0.100554</td>\n",
       "      <td>False</td>\n",
       "      <td>crane</td>\n",
       "      <td>0.084713</td>\n",
       "      <td>False</td>\n",
       "    </tr>\n",
       "    <tr>\n",
       "      <th>529</th>\n",
       "      <td>676811746707918848</td>\n",
       "      <td>https://pbs.twimg.com/media/CWSEsO9WwAAX-fZ.jpg</td>\n",
       "      <td>1</td>\n",
       "      <td>Chihuahua</td>\n",
       "      <td>0.440916</td>\n",
       "      <td>True</td>\n",
       "      <td>Pomeranian</td>\n",
       "      <td>0.345806</td>\n",
       "      <td>True</td>\n",
       "      <td>cocker_spaniel</td>\n",
       "      <td>0.060331</td>\n",
       "      <td>True</td>\n",
       "    </tr>\n",
       "    <tr>\n",
       "      <th>852</th>\n",
       "      <td>695816827381944320</td>\n",
       "      <td>https://pbs.twimg.com/media/CagJtjYW8AADoHu.jpg</td>\n",
       "      <td>1</td>\n",
       "      <td>Pomeranian</td>\n",
       "      <td>0.382234</td>\n",
       "      <td>True</td>\n",
       "      <td>chow</td>\n",
       "      <td>0.208302</td>\n",
       "      <td>True</td>\n",
       "      <td>sunglasses</td>\n",
       "      <td>0.131328</td>\n",
       "      <td>False</td>\n",
       "    </tr>\n",
       "    <tr>\n",
       "      <th>522</th>\n",
       "      <td>676582956622721024</td>\n",
       "      <td>https://pbs.twimg.com/media/CWO0m8tUwAAB901.jpg</td>\n",
       "      <td>1</td>\n",
       "      <td>seat_belt</td>\n",
       "      <td>0.790028</td>\n",
       "      <td>False</td>\n",
       "      <td>Boston_bull</td>\n",
       "      <td>0.196307</td>\n",
       "      <td>True</td>\n",
       "      <td>French_bulldog</td>\n",
       "      <td>0.012429</td>\n",
       "      <td>True</td>\n",
       "    </tr>\n",
       "    <tr>\n",
       "      <th>136</th>\n",
       "      <td>668507509523615744</td>\n",
       "      <td>https://pbs.twimg.com/media/CUcECBYWcAAzFRg.jpg</td>\n",
       "      <td>1</td>\n",
       "      <td>basenji</td>\n",
       "      <td>0.055379</td>\n",
       "      <td>True</td>\n",
       "      <td>Shetland_sheepdog</td>\n",
       "      <td>0.054322</td>\n",
       "      <td>True</td>\n",
       "      <td>whippet</td>\n",
       "      <td>0.051913</td>\n",
       "      <td>True</td>\n",
       "    </tr>\n",
       "    <tr>\n",
       "      <th>1003</th>\n",
       "      <td>708834316713893888</td>\n",
       "      <td>https://pbs.twimg.com/media/CdZI_bpWEAAm1fs.jpg</td>\n",
       "      <td>1</td>\n",
       "      <td>Eskimo_dog</td>\n",
       "      <td>0.283945</td>\n",
       "      <td>True</td>\n",
       "      <td>giant_panda</td>\n",
       "      <td>0.218252</td>\n",
       "      <td>False</td>\n",
       "      <td>malamute</td>\n",
       "      <td>0.180401</td>\n",
       "      <td>True</td>\n",
       "    </tr>\n",
       "    <tr>\n",
       "      <th>470</th>\n",
       "      <td>675113801096802304</td>\n",
       "      <td>https://pbs.twimg.com/media/CV58a4nXAAApywo.jpg</td>\n",
       "      <td>1</td>\n",
       "      <td>bow</td>\n",
       "      <td>0.168020</td>\n",
       "      <td>False</td>\n",
       "      <td>quill</td>\n",
       "      <td>0.108807</td>\n",
       "      <td>False</td>\n",
       "      <td>joystick</td>\n",
       "      <td>0.043312</td>\n",
       "      <td>False</td>\n",
       "    </tr>\n",
       "    <tr>\n",
       "      <th>1784</th>\n",
       "      <td>829141528400556032</td>\n",
       "      <td>https://pbs.twimg.com/media/C4GzztSWAAA_qi4.jpg</td>\n",
       "      <td>2</td>\n",
       "      <td>golden_retriever</td>\n",
       "      <td>0.573140</td>\n",
       "      <td>True</td>\n",
       "      <td>cocker_spaniel</td>\n",
       "      <td>0.111159</td>\n",
       "      <td>True</td>\n",
       "      <td>gibbon</td>\n",
       "      <td>0.094127</td>\n",
       "      <td>False</td>\n",
       "    </tr>\n",
       "  </tbody>\n",
       "</table>\n",
       "</div>"
      ],
      "text/plain": [
       "                tweet_id                                          jpg_url  \\\n",
       "1567  794205286408003585  https://pbs.twimg.com/media/CwWVe_3WEAAHAvx.jpg   \n",
       "810   692187005137076224  https://pbs.twimg.com/media/CZskaEIWIAUeTr5.jpg   \n",
       "142   668614819948453888  https://pbs.twimg.com/media/CUdloW8WEAAxB_Y.jpg   \n",
       "529   676811746707918848  https://pbs.twimg.com/media/CWSEsO9WwAAX-fZ.jpg   \n",
       "852   695816827381944320  https://pbs.twimg.com/media/CagJtjYW8AADoHu.jpg   \n",
       "522   676582956622721024  https://pbs.twimg.com/media/CWO0m8tUwAAB901.jpg   \n",
       "136   668507509523615744  https://pbs.twimg.com/media/CUcECBYWcAAzFRg.jpg   \n",
       "1003  708834316713893888  https://pbs.twimg.com/media/CdZI_bpWEAAm1fs.jpg   \n",
       "470   675113801096802304  https://pbs.twimg.com/media/CV58a4nXAAApywo.jpg   \n",
       "1784  829141528400556032  https://pbs.twimg.com/media/C4GzztSWAAA_qi4.jpg   \n",
       "\n",
       "      img_num                p1   p1_conf  p1_dog                 p2  \\\n",
       "1567        3          pedestal  0.662660   False           fountain   \n",
       "810         2    Siberian_husky  0.810592    True           malamute   \n",
       "142         1           bustard  0.380772   False            pelican   \n",
       "529         1         Chihuahua  0.440916    True         Pomeranian   \n",
       "852         1        Pomeranian  0.382234    True               chow   \n",
       "522         1         seat_belt  0.790028   False        Boston_bull   \n",
       "136         1           basenji  0.055379    True  Shetland_sheepdog   \n",
       "1003        1        Eskimo_dog  0.283945    True        giant_panda   \n",
       "470         1               bow  0.168020   False              quill   \n",
       "1784        2  golden_retriever  0.573140    True     cocker_spaniel   \n",
       "\n",
       "       p2_conf  p2_dog              p3   p3_conf  p3_dog  \n",
       "1567  0.294827   False           brass  0.020371   False  \n",
       "810   0.119745    True      Eskimo_dog  0.029265    True  \n",
       "142   0.100554   False           crane  0.084713   False  \n",
       "529   0.345806    True  cocker_spaniel  0.060331    True  \n",
       "852   0.208302    True      sunglasses  0.131328   False  \n",
       "522   0.196307    True  French_bulldog  0.012429    True  \n",
       "136   0.054322    True         whippet  0.051913    True  \n",
       "1003  0.218252   False        malamute  0.180401    True  \n",
       "470   0.108807   False        joystick  0.043312   False  \n",
       "1784  0.111159    True          gibbon  0.094127   False  "
      ]
     },
     "execution_count": 16,
     "metadata": {},
     "output_type": "execute_result"
    }
   ],
   "source": [
    "img_predectins_df.sample(10)"
   ]
  },
  {
   "cell_type": "code",
   "execution_count": 17,
   "metadata": {},
   "outputs": [
    {
     "data": {
      "text/html": [
       "<div>\n",
       "<style scoped>\n",
       "    .dataframe tbody tr th:only-of-type {\n",
       "        vertical-align: middle;\n",
       "    }\n",
       "\n",
       "    .dataframe tbody tr th {\n",
       "        vertical-align: top;\n",
       "    }\n",
       "\n",
       "    .dataframe thead th {\n",
       "        text-align: right;\n",
       "    }\n",
       "</style>\n",
       "<table border=\"1\" class=\"dataframe\">\n",
       "  <thead>\n",
       "    <tr style=\"text-align: right;\">\n",
       "      <th></th>\n",
       "      <th>tweet_id</th>\n",
       "      <th>in_reply_to_status_id</th>\n",
       "      <th>in_reply_to_user_id</th>\n",
       "      <th>timestamp</th>\n",
       "      <th>source</th>\n",
       "      <th>text</th>\n",
       "      <th>retweeted_status_id</th>\n",
       "      <th>retweeted_status_user_id</th>\n",
       "      <th>retweeted_status_timestamp</th>\n",
       "      <th>expanded_urls</th>\n",
       "      <th>rating_numerator</th>\n",
       "      <th>rating_denominator</th>\n",
       "      <th>name</th>\n",
       "      <th>doggo</th>\n",
       "      <th>floofer</th>\n",
       "      <th>pupper</th>\n",
       "      <th>puppo</th>\n",
       "    </tr>\n",
       "  </thead>\n",
       "  <tbody>\n",
       "    <tr>\n",
       "      <th>2046</th>\n",
       "      <td>671520732782923777</td>\n",
       "      <td>NaN</td>\n",
       "      <td>NaN</td>\n",
       "      <td>2015-12-01 02:46:33 +0000</td>\n",
       "      <td>&lt;a href=\"http://twitter.com/download/iphone\" r...</td>\n",
       "      <td>Meet Alejandro. He's an extremely seductive pu...</td>\n",
       "      <td>NaN</td>\n",
       "      <td>NaN</td>\n",
       "      <td>NaN</td>\n",
       "      <td>https://twitter.com/dog_rates/status/671520732...</td>\n",
       "      <td>10</td>\n",
       "      <td>10</td>\n",
       "      <td>Alejandro</td>\n",
       "      <td>None</td>\n",
       "      <td>None</td>\n",
       "      <td>None</td>\n",
       "      <td>None</td>\n",
       "    </tr>\n",
       "    <tr>\n",
       "      <th>1446</th>\n",
       "      <td>696490539101908992</td>\n",
       "      <td>6.964887e+17</td>\n",
       "      <td>4.196984e+09</td>\n",
       "      <td>2016-02-08 00:27:39 +0000</td>\n",
       "      <td>&lt;a href=\"http://twitter.com/download/iphone\" r...</td>\n",
       "      <td>After reading the comments I may have overesti...</td>\n",
       "      <td>NaN</td>\n",
       "      <td>NaN</td>\n",
       "      <td>NaN</td>\n",
       "      <td>NaN</td>\n",
       "      <td>1</td>\n",
       "      <td>10</td>\n",
       "      <td>None</td>\n",
       "      <td>None</td>\n",
       "      <td>None</td>\n",
       "      <td>None</td>\n",
       "      <td>None</td>\n",
       "    </tr>\n",
       "    <tr>\n",
       "      <th>2020</th>\n",
       "      <td>672095186491711488</td>\n",
       "      <td>NaN</td>\n",
       "      <td>NaN</td>\n",
       "      <td>2015-12-02 16:49:14 +0000</td>\n",
       "      <td>&lt;a href=\"http://twitter.com/download/iphone\" r...</td>\n",
       "      <td>This is Tuco. That's the toast that killed his...</td>\n",
       "      <td>NaN</td>\n",
       "      <td>NaN</td>\n",
       "      <td>NaN</td>\n",
       "      <td>https://twitter.com/dog_rates/status/672095186...</td>\n",
       "      <td>9</td>\n",
       "      <td>10</td>\n",
       "      <td>Tuco</td>\n",
       "      <td>None</td>\n",
       "      <td>None</td>\n",
       "      <td>None</td>\n",
       "      <td>None</td>\n",
       "    </tr>\n",
       "    <tr>\n",
       "      <th>554</th>\n",
       "      <td>803773340896923648</td>\n",
       "      <td>NaN</td>\n",
       "      <td>NaN</td>\n",
       "      <td>2016-11-30 01:31:12 +0000</td>\n",
       "      <td>&lt;a href=\"http://twitter.com/download/iphone\" r...</td>\n",
       "      <td>This is Diogi. He fell in the pool as soon as ...</td>\n",
       "      <td>NaN</td>\n",
       "      <td>NaN</td>\n",
       "      <td>NaN</td>\n",
       "      <td>https://twitter.com/dog_rates/status/803773340...</td>\n",
       "      <td>12</td>\n",
       "      <td>10</td>\n",
       "      <td>Diogi</td>\n",
       "      <td>None</td>\n",
       "      <td>None</td>\n",
       "      <td>None</td>\n",
       "      <td>puppo</td>\n",
       "    </tr>\n",
       "    <tr>\n",
       "      <th>2068</th>\n",
       "      <td>671138694582165504</td>\n",
       "      <td>NaN</td>\n",
       "      <td>NaN</td>\n",
       "      <td>2015-11-30 01:28:28 +0000</td>\n",
       "      <td>&lt;a href=\"http://twitter.com/download/iphone\" r...</td>\n",
       "      <td>Me running from commitment. 10/10 https://t.co...</td>\n",
       "      <td>NaN</td>\n",
       "      <td>NaN</td>\n",
       "      <td>NaN</td>\n",
       "      <td>https://twitter.com/dog_rates/status/671138694...</td>\n",
       "      <td>10</td>\n",
       "      <td>10</td>\n",
       "      <td>None</td>\n",
       "      <td>None</td>\n",
       "      <td>None</td>\n",
       "      <td>None</td>\n",
       "      <td>None</td>\n",
       "    </tr>\n",
       "    <tr>\n",
       "      <th>1296</th>\n",
       "      <td>707969809498152960</td>\n",
       "      <td>NaN</td>\n",
       "      <td>NaN</td>\n",
       "      <td>2016-03-10 16:42:10 +0000</td>\n",
       "      <td>&lt;a href=\"http://twitter.com/download/iphone\" r...</td>\n",
       "      <td>Meet Rufus. He's a Honeysuckle Firefox. Curly ...</td>\n",
       "      <td>NaN</td>\n",
       "      <td>NaN</td>\n",
       "      <td>NaN</td>\n",
       "      <td>https://twitter.com/dog_rates/status/707969809...</td>\n",
       "      <td>11</td>\n",
       "      <td>10</td>\n",
       "      <td>Rufus</td>\n",
       "      <td>None</td>\n",
       "      <td>None</td>\n",
       "      <td>None</td>\n",
       "      <td>None</td>\n",
       "    </tr>\n",
       "    <tr>\n",
       "      <th>1008</th>\n",
       "      <td>747594051852075008</td>\n",
       "      <td>NaN</td>\n",
       "      <td>NaN</td>\n",
       "      <td>2016-06-28 00:54:46 +0000</td>\n",
       "      <td>&lt;a href=\"http://twitter.com/download/iphone\" r...</td>\n",
       "      <td>Again w the sharks guys. This week is about do...</td>\n",
       "      <td>NaN</td>\n",
       "      <td>NaN</td>\n",
       "      <td>NaN</td>\n",
       "      <td>https://twitter.com/dog_rates/status/747594051...</td>\n",
       "      <td>11</td>\n",
       "      <td>10</td>\n",
       "      <td>None</td>\n",
       "      <td>None</td>\n",
       "      <td>None</td>\n",
       "      <td>None</td>\n",
       "      <td>None</td>\n",
       "    </tr>\n",
       "    <tr>\n",
       "      <th>1627</th>\n",
       "      <td>684594889858887680</td>\n",
       "      <td>NaN</td>\n",
       "      <td>NaN</td>\n",
       "      <td>2016-01-06 04:38:35 +0000</td>\n",
       "      <td>&lt;a href=\"http://twitter.com/download/iphone\" r...</td>\n",
       "      <td>\"FOR THE LAST TIME I DON'T WANNA PLAY TWISTER ...</td>\n",
       "      <td>NaN</td>\n",
       "      <td>NaN</td>\n",
       "      <td>NaN</td>\n",
       "      <td>https://twitter.com/dog_rates/status/684594889...</td>\n",
       "      <td>10</td>\n",
       "      <td>10</td>\n",
       "      <td>None</td>\n",
       "      <td>None</td>\n",
       "      <td>None</td>\n",
       "      <td>None</td>\n",
       "      <td>None</td>\n",
       "    </tr>\n",
       "    <tr>\n",
       "      <th>1013</th>\n",
       "      <td>747219827526344708</td>\n",
       "      <td>NaN</td>\n",
       "      <td>NaN</td>\n",
       "      <td>2016-06-27 00:07:44 +0000</td>\n",
       "      <td>&lt;a href=\"http://twitter.com/download/iphone\" r...</td>\n",
       "      <td>This is Atticus. He's remaining calm but his c...</td>\n",
       "      <td>NaN</td>\n",
       "      <td>NaN</td>\n",
       "      <td>NaN</td>\n",
       "      <td>https://twitter.com/dog_rates/status/747219827...</td>\n",
       "      <td>11</td>\n",
       "      <td>10</td>\n",
       "      <td>Atticus</td>\n",
       "      <td>None</td>\n",
       "      <td>None</td>\n",
       "      <td>None</td>\n",
       "      <td>None</td>\n",
       "    </tr>\n",
       "    <tr>\n",
       "      <th>1761</th>\n",
       "      <td>678675843183484930</td>\n",
       "      <td>NaN</td>\n",
       "      <td>NaN</td>\n",
       "      <td>2015-12-20 20:38:24 +0000</td>\n",
       "      <td>&lt;a href=\"http://twitter.com/download/iphone\" r...</td>\n",
       "      <td>Exotic pup here. Tail long af. Throat looks sw...</td>\n",
       "      <td>NaN</td>\n",
       "      <td>NaN</td>\n",
       "      <td>NaN</td>\n",
       "      <td>https://twitter.com/dog_rates/status/678675843...</td>\n",
       "      <td>2</td>\n",
       "      <td>10</td>\n",
       "      <td>None</td>\n",
       "      <td>None</td>\n",
       "      <td>None</td>\n",
       "      <td>None</td>\n",
       "      <td>None</td>\n",
       "    </tr>\n",
       "  </tbody>\n",
       "</table>\n",
       "</div>"
      ],
      "text/plain": [
       "                tweet_id  in_reply_to_status_id  in_reply_to_user_id  \\\n",
       "2046  671520732782923777                    NaN                  NaN   \n",
       "1446  696490539101908992           6.964887e+17         4.196984e+09   \n",
       "2020  672095186491711488                    NaN                  NaN   \n",
       "554   803773340896923648                    NaN                  NaN   \n",
       "2068  671138694582165504                    NaN                  NaN   \n",
       "1296  707969809498152960                    NaN                  NaN   \n",
       "1008  747594051852075008                    NaN                  NaN   \n",
       "1627  684594889858887680                    NaN                  NaN   \n",
       "1013  747219827526344708                    NaN                  NaN   \n",
       "1761  678675843183484930                    NaN                  NaN   \n",
       "\n",
       "                      timestamp  \\\n",
       "2046  2015-12-01 02:46:33 +0000   \n",
       "1446  2016-02-08 00:27:39 +0000   \n",
       "2020  2015-12-02 16:49:14 +0000   \n",
       "554   2016-11-30 01:31:12 +0000   \n",
       "2068  2015-11-30 01:28:28 +0000   \n",
       "1296  2016-03-10 16:42:10 +0000   \n",
       "1008  2016-06-28 00:54:46 +0000   \n",
       "1627  2016-01-06 04:38:35 +0000   \n",
       "1013  2016-06-27 00:07:44 +0000   \n",
       "1761  2015-12-20 20:38:24 +0000   \n",
       "\n",
       "                                                 source  \\\n",
       "2046  <a href=\"http://twitter.com/download/iphone\" r...   \n",
       "1446  <a href=\"http://twitter.com/download/iphone\" r...   \n",
       "2020  <a href=\"http://twitter.com/download/iphone\" r...   \n",
       "554   <a href=\"http://twitter.com/download/iphone\" r...   \n",
       "2068  <a href=\"http://twitter.com/download/iphone\" r...   \n",
       "1296  <a href=\"http://twitter.com/download/iphone\" r...   \n",
       "1008  <a href=\"http://twitter.com/download/iphone\" r...   \n",
       "1627  <a href=\"http://twitter.com/download/iphone\" r...   \n",
       "1013  <a href=\"http://twitter.com/download/iphone\" r...   \n",
       "1761  <a href=\"http://twitter.com/download/iphone\" r...   \n",
       "\n",
       "                                                   text  retweeted_status_id  \\\n",
       "2046  Meet Alejandro. He's an extremely seductive pu...                  NaN   \n",
       "1446  After reading the comments I may have overesti...                  NaN   \n",
       "2020  This is Tuco. That's the toast that killed his...                  NaN   \n",
       "554   This is Diogi. He fell in the pool as soon as ...                  NaN   \n",
       "2068  Me running from commitment. 10/10 https://t.co...                  NaN   \n",
       "1296  Meet Rufus. He's a Honeysuckle Firefox. Curly ...                  NaN   \n",
       "1008  Again w the sharks guys. This week is about do...                  NaN   \n",
       "1627  \"FOR THE LAST TIME I DON'T WANNA PLAY TWISTER ...                  NaN   \n",
       "1013  This is Atticus. He's remaining calm but his c...                  NaN   \n",
       "1761  Exotic pup here. Tail long af. Throat looks sw...                  NaN   \n",
       "\n",
       "      retweeted_status_user_id retweeted_status_timestamp  \\\n",
       "2046                       NaN                        NaN   \n",
       "1446                       NaN                        NaN   \n",
       "2020                       NaN                        NaN   \n",
       "554                        NaN                        NaN   \n",
       "2068                       NaN                        NaN   \n",
       "1296                       NaN                        NaN   \n",
       "1008                       NaN                        NaN   \n",
       "1627                       NaN                        NaN   \n",
       "1013                       NaN                        NaN   \n",
       "1761                       NaN                        NaN   \n",
       "\n",
       "                                          expanded_urls  rating_numerator  \\\n",
       "2046  https://twitter.com/dog_rates/status/671520732...                10   \n",
       "1446                                                NaN                 1   \n",
       "2020  https://twitter.com/dog_rates/status/672095186...                 9   \n",
       "554   https://twitter.com/dog_rates/status/803773340...                12   \n",
       "2068  https://twitter.com/dog_rates/status/671138694...                10   \n",
       "1296  https://twitter.com/dog_rates/status/707969809...                11   \n",
       "1008  https://twitter.com/dog_rates/status/747594051...                11   \n",
       "1627  https://twitter.com/dog_rates/status/684594889...                10   \n",
       "1013  https://twitter.com/dog_rates/status/747219827...                11   \n",
       "1761  https://twitter.com/dog_rates/status/678675843...                 2   \n",
       "\n",
       "      rating_denominator       name doggo floofer pupper  puppo  \n",
       "2046                  10  Alejandro  None    None   None   None  \n",
       "1446                  10       None  None    None   None   None  \n",
       "2020                  10       Tuco  None    None   None   None  \n",
       "554                   10      Diogi  None    None   None  puppo  \n",
       "2068                  10       None  None    None   None   None  \n",
       "1296                  10      Rufus  None    None   None   None  \n",
       "1008                  10       None  None    None   None   None  \n",
       "1627                  10       None  None    None   None   None  \n",
       "1013                  10    Atticus  None    None   None   None  \n",
       "1761                  10       None  None    None   None   None  "
      ]
     },
     "execution_count": 17,
     "metadata": {},
     "output_type": "execute_result"
    }
   ],
   "source": [
    "arch_df.sample(10)"
   ]
  },
  {
   "cell_type": "code",
   "execution_count": 18,
   "metadata": {},
   "outputs": [
    {
     "data": {
      "text/plain": [
       "Index(['id', 'retweet_count', 'favorite_count'], dtype='object')"
      ]
     },
     "execution_count": 18,
     "metadata": {},
     "output_type": "execute_result"
    }
   ],
   "source": [
    "tweet_info.columns"
   ]
  },
  {
   "cell_type": "code",
   "execution_count": 19,
   "metadata": {},
   "outputs": [
    {
     "data": {
      "text/plain": [
       "Index(['tweet_id', 'jpg_url', 'img_num', 'p1', 'p1_conf', 'p1_dog', 'p2',\n",
       "       'p2_conf', 'p2_dog', 'p3', 'p3_conf', 'p3_dog'],\n",
       "      dtype='object')"
      ]
     },
     "execution_count": 19,
     "metadata": {},
     "output_type": "execute_result"
    }
   ],
   "source": [
    "img_predectins_df.columns"
   ]
  },
  {
   "cell_type": "code",
   "execution_count": 20,
   "metadata": {},
   "outputs": [
    {
     "data": {
      "text/plain": [
       "Index(['tweet_id', 'in_reply_to_status_id', 'in_reply_to_user_id', 'timestamp',\n",
       "       'source', 'text', 'retweeted_status_id', 'retweeted_status_user_id',\n",
       "       'retweeted_status_timestamp', 'expanded_urls', 'rating_numerator',\n",
       "       'rating_denominator', 'name', 'doggo', 'floofer', 'pupper', 'puppo'],\n",
       "      dtype='object')"
      ]
     },
     "execution_count": 20,
     "metadata": {},
     "output_type": "execute_result"
    }
   ],
   "source": [
    "arch_df.columns"
   ]
  },
  {
   "cell_type": "code",
   "execution_count": 21,
   "metadata": {},
   "outputs": [
    {
     "name": "stdout",
     "output_type": "stream",
     "text": [
      "0\n",
      "0\n",
      "0\n"
     ]
    }
   ],
   "source": [
    "#check duplicated records\n",
    "print(img_predectins_df.duplicated().sum())\n",
    "print(arch_df.duplicated().sum())\n",
    "print(tweet_info.duplicated().sum())"
   ]
  },
  {
   "cell_type": "code",
   "execution_count": 22,
   "metadata": {
    "scrolled": false
   },
   "outputs": [
    {
     "name": "stdout",
     "output_type": "stream",
     "text": [
      "<class 'pandas.core.frame.DataFrame'>\n",
      "RangeIndex: 2075 entries, 0 to 2074\n",
      "Data columns (total 12 columns):\n",
      " #   Column    Non-Null Count  Dtype  \n",
      "---  ------    --------------  -----  \n",
      " 0   tweet_id  2075 non-null   int64  \n",
      " 1   jpg_url   2075 non-null   object \n",
      " 2   img_num   2075 non-null   int64  \n",
      " 3   p1        2075 non-null   object \n",
      " 4   p1_conf   2075 non-null   float64\n",
      " 5   p1_dog    2075 non-null   bool   \n",
      " 6   p2        2075 non-null   object \n",
      " 7   p2_conf   2075 non-null   float64\n",
      " 8   p2_dog    2075 non-null   bool   \n",
      " 9   p3        2075 non-null   object \n",
      " 10  p3_conf   2075 non-null   float64\n",
      " 11  p3_dog    2075 non-null   bool   \n",
      "dtypes: bool(3), float64(3), int64(2), object(4)\n",
      "memory usage: 152.1+ KB\n"
     ]
    }
   ],
   "source": [
    "img_predectins_df.info()"
   ]
  },
  {
   "cell_type": "code",
   "execution_count": 23,
   "metadata": {},
   "outputs": [
    {
     "data": {
      "text/html": [
       "<div>\n",
       "<style scoped>\n",
       "    .dataframe tbody tr th:only-of-type {\n",
       "        vertical-align: middle;\n",
       "    }\n",
       "\n",
       "    .dataframe tbody tr th {\n",
       "        vertical-align: top;\n",
       "    }\n",
       "\n",
       "    .dataframe thead th {\n",
       "        text-align: right;\n",
       "    }\n",
       "</style>\n",
       "<table border=\"1\" class=\"dataframe\">\n",
       "  <thead>\n",
       "    <tr style=\"text-align: right;\">\n",
       "      <th></th>\n",
       "      <th>tweet_id</th>\n",
       "      <th>jpg_url</th>\n",
       "      <th>img_num</th>\n",
       "      <th>p1</th>\n",
       "      <th>p1_conf</th>\n",
       "      <th>p1_dog</th>\n",
       "      <th>p2</th>\n",
       "      <th>p2_conf</th>\n",
       "      <th>p2_dog</th>\n",
       "      <th>p3</th>\n",
       "      <th>p3_conf</th>\n",
       "      <th>p3_dog</th>\n",
       "    </tr>\n",
       "  </thead>\n",
       "  <tbody>\n",
       "    <tr>\n",
       "      <th>1738</th>\n",
       "      <td>822244816520155136</td>\n",
       "      <td>https://pbs.twimg.com/media/C2kzTGxWEAEOpPL.jpg</td>\n",
       "      <td>1</td>\n",
       "      <td>Samoyed</td>\n",
       "      <td>0.585441</td>\n",
       "      <td>True</td>\n",
       "      <td>Pomeranian</td>\n",
       "      <td>0.193654</td>\n",
       "      <td>True</td>\n",
       "      <td>Arctic_fox</td>\n",
       "      <td>0.071648</td>\n",
       "      <td>False</td>\n",
       "    </tr>\n",
       "    <tr>\n",
       "      <th>1746</th>\n",
       "      <td>823269594223824897</td>\n",
       "      <td>https://pbs.twimg.com/media/C2kzTGxWEAEOpPL.jpg</td>\n",
       "      <td>1</td>\n",
       "      <td>Samoyed</td>\n",
       "      <td>0.585441</td>\n",
       "      <td>True</td>\n",
       "      <td>Pomeranian</td>\n",
       "      <td>0.193654</td>\n",
       "      <td>True</td>\n",
       "      <td>Arctic_fox</td>\n",
       "      <td>0.071648</td>\n",
       "      <td>False</td>\n",
       "    </tr>\n",
       "  </tbody>\n",
       "</table>\n",
       "</div>"
      ],
      "text/plain": [
       "                tweet_id                                          jpg_url  \\\n",
       "1738  822244816520155136  https://pbs.twimg.com/media/C2kzTGxWEAEOpPL.jpg   \n",
       "1746  823269594223824897  https://pbs.twimg.com/media/C2kzTGxWEAEOpPL.jpg   \n",
       "\n",
       "      img_num       p1   p1_conf  p1_dog          p2   p2_conf  p2_dog  \\\n",
       "1738        1  Samoyed  0.585441    True  Pomeranian  0.193654    True   \n",
       "1746        1  Samoyed  0.585441    True  Pomeranian  0.193654    True   \n",
       "\n",
       "              p3   p3_conf  p3_dog  \n",
       "1738  Arctic_fox  0.071648   False  \n",
       "1746  Arctic_fox  0.071648   False  "
      ]
     },
     "execution_count": 23,
     "metadata": {},
     "output_type": "execute_result"
    }
   ],
   "source": [
    "#check the deffirence between the two tweets\n",
    "img_predectins_df.query('jpg_url==\"https://pbs.twimg.com/media/C2kzTGxWEAEOpPL.jpg\"')\n",
    "#only ID"
   ]
  },
  {
   "cell_type": "code",
   "execution_count": 24,
   "metadata": {},
   "outputs": [
    {
     "data": {
      "text/plain": [
       "https://pbs.twimg.com/media/DA7iHL5U0AA1OQo.jpg                                            2\n",
       "https://pbs.twimg.com/ext_tw_video_thumb/807106774843039744/pu/img/8XZg1xW35Xp2J6JW.jpg    2\n",
       "https://pbs.twimg.com/media/Ck2d7tJWUAEPTL3.jpg                                            2\n",
       "https://pbs.twimg.com/media/Ct72q9jWcAAhlnw.jpg                                            2\n",
       "https://pbs.twimg.com/media/Cx5R8wPVEAALa9r.jpg                                            2\n",
       "                                                                                          ..\n",
       "https://pbs.twimg.com/media/CqWcgcqWcAI43jm.jpg                                            1\n",
       "https://pbs.twimg.com/media/CUibq3uVAAAup_O.jpg                                            1\n",
       "https://pbs.twimg.com/media/CU6xVkbWsAAeHeU.jpg                                            1\n",
       "https://pbs.twimg.com/media/CcgF5ovW8AACrEU.jpg                                            1\n",
       "https://pbs.twimg.com/media/CUM1OHCW4AEgGSi.jpg                                            1\n",
       "Name: jpg_url, Length: 2009, dtype: int64"
      ]
     },
     "execution_count": 24,
     "metadata": {},
     "output_type": "execute_result"
    }
   ],
   "source": [
    "img_predectins_df['jpg_url'].value_counts()"
   ]
  },
  {
   "cell_type": "code",
   "execution_count": 25,
   "metadata": {},
   "outputs": [
    {
     "data": {
      "text/plain": [
       "626    This is Bailey. She loves going down slides bu...\n",
       "Name: text, dtype: object"
      ]
     },
     "execution_count": 25,
     "metadata": {},
     "output_type": "execute_result"
    }
   ],
   "source": [
    "#compare the message of first tweet and the second \n",
    "arch_df.query('tweet_id==795076730285391872')['text']"
   ]
  },
  {
   "cell_type": "code",
   "execution_count": 26,
   "metadata": {},
   "outputs": [
    {
     "data": {
      "text/plain": [
       "411    RT @dog_rates: We only rate dogs. Please don't...\n",
       "Name: text, dtype: object"
      ]
     },
     "execution_count": 26,
     "metadata": {},
     "output_type": "execute_result"
    }
   ],
   "source": [
    "arch_df.query('tweet_id==\t823269594223824897')['text']\n",
    "# its a retweet "
   ]
  },
  {
   "cell_type": "code",
   "execution_count": null,
   "metadata": {},
   "outputs": [],
   "source": []
  },
  {
   "cell_type": "code",
   "execution_count": 28,
   "metadata": {},
   "outputs": [
    {
     "data": {
      "text/plain": [
       "None       745\n",
       "a           55\n",
       "Charlie     12\n",
       "Cooper      11\n",
       "Lucy        11\n",
       "          ... \n",
       "Jaspers      1\n",
       "Ginger       1\n",
       "Edgar        1\n",
       "Al           1\n",
       "Jo           1\n",
       "Name: name, Length: 957, dtype: int64"
      ]
     },
     "execution_count": 28,
     "metadata": {},
     "output_type": "execute_result"
    }
   ],
   "source": [
    "arch_df['name'].value_counts()"
   ]
  },
  {
   "cell_type": "code",
   "execution_count": 29,
   "metadata": {},
   "outputs": [
    {
     "name": "stdout",
     "output_type": "stream",
     "text": [
      "<class 'pandas.core.frame.DataFrame'>\n",
      "RangeIndex: 2356 entries, 0 to 2355\n",
      "Data columns (total 17 columns):\n",
      " #   Column                      Non-Null Count  Dtype  \n",
      "---  ------                      --------------  -----  \n",
      " 0   tweet_id                    2356 non-null   int64  \n",
      " 1   in_reply_to_status_id       78 non-null     float64\n",
      " 2   in_reply_to_user_id         78 non-null     float64\n",
      " 3   timestamp                   2356 non-null   object \n",
      " 4   source                      2356 non-null   object \n",
      " 5   text                        2356 non-null   object \n",
      " 6   retweeted_status_id         181 non-null    float64\n",
      " 7   retweeted_status_user_id    181 non-null    float64\n",
      " 8   retweeted_status_timestamp  181 non-null    object \n",
      " 9   expanded_urls               2297 non-null   object \n",
      " 10  rating_numerator            2356 non-null   int64  \n",
      " 11  rating_denominator          2356 non-null   int64  \n",
      " 12  name                        2356 non-null   object \n",
      " 13  doggo                       2356 non-null   object \n",
      " 14  floofer                     2356 non-null   object \n",
      " 15  pupper                      2356 non-null   object \n",
      " 16  puppo                       2356 non-null   object \n",
      "dtypes: float64(4), int64(3), object(10)\n",
      "memory usage: 313.0+ KB\n"
     ]
    }
   ],
   "source": [
    "arch_df.info()"
   ]
  },
  {
   "cell_type": "code",
   "execution_count": 30,
   "metadata": {},
   "outputs": [
    {
     "name": "stdout",
     "output_type": "stream",
     "text": [
      "<class 'pandas.core.frame.DataFrame'>\n",
      "RangeIndex: 2354 entries, 0 to 2353\n",
      "Data columns (total 3 columns):\n",
      " #   Column          Non-Null Count  Dtype\n",
      "---  ------          --------------  -----\n",
      " 0   id              2354 non-null   int64\n",
      " 1   retweet_count   2354 non-null   int64\n",
      " 2   favorite_count  2354 non-null   int64\n",
      "dtypes: int64(3)\n",
      "memory usage: 55.3 KB\n"
     ]
    }
   ],
   "source": [
    "tweet_info.info()"
   ]
  },
  {
   "cell_type": "markdown",
   "metadata": {},
   "source": [
    "# Cleaning"
   ]
  },
  {
   "cell_type": "markdown",
   "metadata": {},
   "source": [
    "# Quality"
   ]
  },
  {
   "cell_type": "code",
   "execution_count": 31,
   "metadata": {},
   "outputs": [],
   "source": [
    "# for arch_df\n",
    "#1--in_reply_to_status_id,in_reply_to_user_id,retweeted_status_id,retweeted_status_user_id and retweeted_status_timestamp have to many missing values\n",
    "#2--tweet_id or any id in any DF must be string ,, img_num in img_prediction_df must be string\n",
    "#3-- timestamp have ('0000') must be removed\n",
    "#4-- \n",
    "#5-- \n",
    "#6-- timestamp must be datetime type\n",
    "#7-- there are alot of none in name and  stage column arch_df and some with lower and uppercase\n",
    "#8-- remove retweets\n",
    "\n",
    "### Tidiness\n",
    "#1-- doggo\tfloofer\tpupper\tpuppo must be in one column \n",
    "#2-- tweet data fram is related to arch_df must be merged"
   ]
  },
  {
   "cell_type": "code",
   "execution_count": 107,
   "metadata": {},
   "outputs": [],
   "source": [
    "#copying dataframes to keep the orginal\n",
    "clean_arch_df=arch_df.copy()\n",
    "clean_tweet_info=tweet_info.copy()\n",
    "clean_img_predectins_df=img_predectins_df.copy()"
   ]
  },
  {
   "cell_type": "code",
   "execution_count": 109,
   "metadata": {},
   "outputs": [
    {
     "data": {
      "text/html": [
       "<div>\n",
       "<style scoped>\n",
       "    .dataframe tbody tr th:only-of-type {\n",
       "        vertical-align: middle;\n",
       "    }\n",
       "\n",
       "    .dataframe tbody tr th {\n",
       "        vertical-align: top;\n",
       "    }\n",
       "\n",
       "    .dataframe thead th {\n",
       "        text-align: right;\n",
       "    }\n",
       "</style>\n",
       "<table border=\"1\" class=\"dataframe\">\n",
       "  <thead>\n",
       "    <tr style=\"text-align: right;\">\n",
       "      <th></th>\n",
       "      <th>tweet_id</th>\n",
       "      <th>in_reply_to_status_id</th>\n",
       "      <th>in_reply_to_user_id</th>\n",
       "      <th>timestamp</th>\n",
       "      <th>source</th>\n",
       "      <th>text</th>\n",
       "      <th>retweeted_status_id</th>\n",
       "      <th>retweeted_status_user_id</th>\n",
       "      <th>retweeted_status_timestamp</th>\n",
       "      <th>expanded_urls</th>\n",
       "      <th>rating_numerator</th>\n",
       "      <th>rating_denominator</th>\n",
       "      <th>name</th>\n",
       "      <th>doggo</th>\n",
       "      <th>floofer</th>\n",
       "      <th>pupper</th>\n",
       "      <th>puppo</th>\n",
       "    </tr>\n",
       "  </thead>\n",
       "  <tbody>\n",
       "    <tr>\n",
       "      <th>355</th>\n",
       "      <td>830956169170665475</td>\n",
       "      <td>NaN</td>\n",
       "      <td>NaN</td>\n",
       "      <td>2017-02-13 01:46:03 +0000</td>\n",
       "      <td>&lt;a href=\"http://twitter.com/download/iphone\" r...</td>\n",
       "      <td>Say hello to Reggie. He hates puns. 12/10 ligh...</td>\n",
       "      <td>NaN</td>\n",
       "      <td>NaN</td>\n",
       "      <td>NaN</td>\n",
       "      <td>https://twitter.com/dog_rates/status/830956169...</td>\n",
       "      <td>12</td>\n",
       "      <td>10</td>\n",
       "      <td>Reggie</td>\n",
       "      <td>None</td>\n",
       "      <td>None</td>\n",
       "      <td>None</td>\n",
       "      <td>None</td>\n",
       "    </tr>\n",
       "    <tr>\n",
       "      <th>1651</th>\n",
       "      <td>683498322573824003</td>\n",
       "      <td>NaN</td>\n",
       "      <td>NaN</td>\n",
       "      <td>2016-01-03 04:01:13 +0000</td>\n",
       "      <td>&lt;a href=\"http://twitter.com/download/iphone\" r...</td>\n",
       "      <td>This is Griffin. He's desperate for both a phy...</td>\n",
       "      <td>NaN</td>\n",
       "      <td>NaN</td>\n",
       "      <td>NaN</td>\n",
       "      <td>https://twitter.com/dog_rates/status/683498322...</td>\n",
       "      <td>11</td>\n",
       "      <td>10</td>\n",
       "      <td>Griffin</td>\n",
       "      <td>None</td>\n",
       "      <td>None</td>\n",
       "      <td>None</td>\n",
       "      <td>None</td>\n",
       "    </tr>\n",
       "    <tr>\n",
       "      <th>1277</th>\n",
       "      <td>709042156699303936</td>\n",
       "      <td>NaN</td>\n",
       "      <td>NaN</td>\n",
       "      <td>2016-03-13 15:43:18 +0000</td>\n",
       "      <td>&lt;a href=\"http://twitter.com/download/iphone\" r...</td>\n",
       "      <td>This is Klevin. He's addicted to sandwiches (y...</td>\n",
       "      <td>NaN</td>\n",
       "      <td>NaN</td>\n",
       "      <td>NaN</td>\n",
       "      <td>https://twitter.com/dog_rates/status/709042156...</td>\n",
       "      <td>9</td>\n",
       "      <td>10</td>\n",
       "      <td>Klevin</td>\n",
       "      <td>None</td>\n",
       "      <td>None</td>\n",
       "      <td>None</td>\n",
       "      <td>None</td>\n",
       "    </tr>\n",
       "    <tr>\n",
       "      <th>398</th>\n",
       "      <td>825026590719483904</td>\n",
       "      <td>NaN</td>\n",
       "      <td>NaN</td>\n",
       "      <td>2017-01-27 17:04:02 +0000</td>\n",
       "      <td>&lt;a href=\"http://twitter.com/download/iphone\" r...</td>\n",
       "      <td>Say hello to Pablo. He's one gorgeous puppo. A...</td>\n",
       "      <td>NaN</td>\n",
       "      <td>NaN</td>\n",
       "      <td>NaN</td>\n",
       "      <td>https://www.gofundme.com/my-puppys-double-cata...</td>\n",
       "      <td>12</td>\n",
       "      <td>10</td>\n",
       "      <td>Pablo</td>\n",
       "      <td>None</td>\n",
       "      <td>None</td>\n",
       "      <td>None</td>\n",
       "      <td>puppo</td>\n",
       "    </tr>\n",
       "    <tr>\n",
       "      <th>1557</th>\n",
       "      <td>688804835492233216</td>\n",
       "      <td>NaN</td>\n",
       "      <td>NaN</td>\n",
       "      <td>2016-01-17 19:27:24 +0000</td>\n",
       "      <td>&lt;a href=\"http://twitter.com/download/iphone\" r...</td>\n",
       "      <td>When you stumble but recover quickly cause you...</td>\n",
       "      <td>NaN</td>\n",
       "      <td>NaN</td>\n",
       "      <td>NaN</td>\n",
       "      <td>https://twitter.com/dog_rates/status/688804835...</td>\n",
       "      <td>12</td>\n",
       "      <td>10</td>\n",
       "      <td>None</td>\n",
       "      <td>None</td>\n",
       "      <td>None</td>\n",
       "      <td>None</td>\n",
       "      <td>None</td>\n",
       "    </tr>\n",
       "  </tbody>\n",
       "</table>\n",
       "</div>"
      ],
      "text/plain": [
       "                tweet_id  in_reply_to_status_id  in_reply_to_user_id  \\\n",
       "355   830956169170665475                    NaN                  NaN   \n",
       "1651  683498322573824003                    NaN                  NaN   \n",
       "1277  709042156699303936                    NaN                  NaN   \n",
       "398   825026590719483904                    NaN                  NaN   \n",
       "1557  688804835492233216                    NaN                  NaN   \n",
       "\n",
       "                      timestamp  \\\n",
       "355   2017-02-13 01:46:03 +0000   \n",
       "1651  2016-01-03 04:01:13 +0000   \n",
       "1277  2016-03-13 15:43:18 +0000   \n",
       "398   2017-01-27 17:04:02 +0000   \n",
       "1557  2016-01-17 19:27:24 +0000   \n",
       "\n",
       "                                                 source  \\\n",
       "355   <a href=\"http://twitter.com/download/iphone\" r...   \n",
       "1651  <a href=\"http://twitter.com/download/iphone\" r...   \n",
       "1277  <a href=\"http://twitter.com/download/iphone\" r...   \n",
       "398   <a href=\"http://twitter.com/download/iphone\" r...   \n",
       "1557  <a href=\"http://twitter.com/download/iphone\" r...   \n",
       "\n",
       "                                                   text  retweeted_status_id  \\\n",
       "355   Say hello to Reggie. He hates puns. 12/10 ligh...                  NaN   \n",
       "1651  This is Griffin. He's desperate for both a phy...                  NaN   \n",
       "1277  This is Klevin. He's addicted to sandwiches (y...                  NaN   \n",
       "398   Say hello to Pablo. He's one gorgeous puppo. A...                  NaN   \n",
       "1557  When you stumble but recover quickly cause you...                  NaN   \n",
       "\n",
       "      retweeted_status_user_id retweeted_status_timestamp  \\\n",
       "355                        NaN                        NaN   \n",
       "1651                       NaN                        NaN   \n",
       "1277                       NaN                        NaN   \n",
       "398                        NaN                        NaN   \n",
       "1557                       NaN                        NaN   \n",
       "\n",
       "                                          expanded_urls  rating_numerator  \\\n",
       "355   https://twitter.com/dog_rates/status/830956169...                12   \n",
       "1651  https://twitter.com/dog_rates/status/683498322...                11   \n",
       "1277  https://twitter.com/dog_rates/status/709042156...                 9   \n",
       "398   https://www.gofundme.com/my-puppys-double-cata...                12   \n",
       "1557  https://twitter.com/dog_rates/status/688804835...                12   \n",
       "\n",
       "      rating_denominator     name doggo floofer pupper  puppo  \n",
       "355                   10   Reggie  None    None   None   None  \n",
       "1651                  10  Griffin  None    None   None   None  \n",
       "1277                  10   Klevin  None    None   None   None  \n",
       "398                   10    Pablo  None    None   None  puppo  \n",
       "1557                  10     None  None    None   None   None  "
      ]
     },
     "execution_count": 109,
     "metadata": {},
     "output_type": "execute_result"
    }
   ],
   "source": [
    "clean_arch_df.sample(5)"
   ]
  },
  {
   "cell_type": "markdown",
   "metadata": {},
   "source": [
    "# DEFINING"
   ]
  },
  {
   "cell_type": "code",
   "execution_count": 33,
   "metadata": {},
   "outputs": [],
   "source": [
    "#1-- i will drop this columns with too many missing values with -> df.drop('a', inplace=True, axis=1) (done)\n",
    "#2-- id,img_num will be converted to string -> .toString\n",
    "#3-- slice timestamp to extract (\" +0000\")\n",
    "#4-- convert timestamp to datetime\n",
    "#5-- all recored in rating_numerator will be > 10 and will be 13 for big numbers \n",
    "#6-- rating_denominator must be equal 10\n",
    "#7-- make all names with lowercase\n",
    "#8-- remove retweets from arch_df by removing records with retweeted_status_id that's not null then drop this columns \n"
   ]
  },
  {
   "cell_type": "markdown",
   "metadata": {},
   "source": [
    "# Quality issues control"
   ]
  },
  {
   "cell_type": "markdown",
   "metadata": {},
   "source": [
    "# define"
   ]
  },
  {
   "cell_type": "code",
   "execution_count": null,
   "metadata": {},
   "outputs": [],
   "source": [
    "# drop this columns with too many missing values"
   ]
  },
  {
   "cell_type": "markdown",
   "metadata": {},
   "source": [
    "# code"
   ]
  },
  {
   "cell_type": "code",
   "execution_count": 110,
   "metadata": {},
   "outputs": [],
   "source": [
    "clean_arch_df.drop(\"in_reply_to_user_id\",axis=1,inplace=True)\n",
    "clean_arch_df.drop(\"retweeted_status_user_id\",axis=1,inplace=True)\n",
    "clean_arch_df.drop(\"retweeted_status_timestamp\",axis=1,inplace=True)"
   ]
  },
  {
   "cell_type": "markdown",
   "metadata": {},
   "source": [
    "# test"
   ]
  },
  {
   "cell_type": "code",
   "execution_count": 111,
   "metadata": {},
   "outputs": [
    {
     "data": {
      "text/html": [
       "<div>\n",
       "<style scoped>\n",
       "    .dataframe tbody tr th:only-of-type {\n",
       "        vertical-align: middle;\n",
       "    }\n",
       "\n",
       "    .dataframe tbody tr th {\n",
       "        vertical-align: top;\n",
       "    }\n",
       "\n",
       "    .dataframe thead th {\n",
       "        text-align: right;\n",
       "    }\n",
       "</style>\n",
       "<table border=\"1\" class=\"dataframe\">\n",
       "  <thead>\n",
       "    <tr style=\"text-align: right;\">\n",
       "      <th></th>\n",
       "      <th>tweet_id</th>\n",
       "      <th>in_reply_to_status_id</th>\n",
       "      <th>timestamp</th>\n",
       "      <th>source</th>\n",
       "      <th>text</th>\n",
       "      <th>retweeted_status_id</th>\n",
       "      <th>expanded_urls</th>\n",
       "      <th>rating_numerator</th>\n",
       "      <th>rating_denominator</th>\n",
       "      <th>name</th>\n",
       "      <th>doggo</th>\n",
       "      <th>floofer</th>\n",
       "      <th>pupper</th>\n",
       "      <th>puppo</th>\n",
       "    </tr>\n",
       "  </thead>\n",
       "  <tbody>\n",
       "    <tr>\n",
       "      <th>0</th>\n",
       "      <td>892420643555336193</td>\n",
       "      <td>NaN</td>\n",
       "      <td>2017-08-01 16:23:56 +0000</td>\n",
       "      <td>&lt;a href=\"http://twitter.com/download/iphone\" r...</td>\n",
       "      <td>This is Phineas. He's a mystical boy. Only eve...</td>\n",
       "      <td>NaN</td>\n",
       "      <td>https://twitter.com/dog_rates/status/892420643...</td>\n",
       "      <td>13</td>\n",
       "      <td>10</td>\n",
       "      <td>Phineas</td>\n",
       "      <td>None</td>\n",
       "      <td>None</td>\n",
       "      <td>None</td>\n",
       "      <td>None</td>\n",
       "    </tr>\n",
       "  </tbody>\n",
       "</table>\n",
       "</div>"
      ],
      "text/plain": [
       "             tweet_id  in_reply_to_status_id                  timestamp  \\\n",
       "0  892420643555336193                    NaN  2017-08-01 16:23:56 +0000   \n",
       "\n",
       "                                              source  \\\n",
       "0  <a href=\"http://twitter.com/download/iphone\" r...   \n",
       "\n",
       "                                                text  retweeted_status_id  \\\n",
       "0  This is Phineas. He's a mystical boy. Only eve...                  NaN   \n",
       "\n",
       "                                       expanded_urls  rating_numerator  \\\n",
       "0  https://twitter.com/dog_rates/status/892420643...                13   \n",
       "\n",
       "   rating_denominator     name doggo floofer pupper puppo  \n",
       "0                  10  Phineas  None    None   None  None  "
      ]
     },
     "execution_count": 111,
     "metadata": {},
     "output_type": "execute_result"
    }
   ],
   "source": [
    "clean_arch_df.head(1)"
   ]
  },
  {
   "cell_type": "markdown",
   "metadata": {},
   "source": [
    "# define"
   ]
  },
  {
   "cell_type": "markdown",
   "metadata": {},
   "source": [
    "###### slice timestamp to extract (\" +0000\")\n"
   ]
  },
  {
   "cell_type": "markdown",
   "metadata": {},
   "source": [
    "# code"
   ]
  },
  {
   "cell_type": "code",
   "execution_count": 112,
   "metadata": {},
   "outputs": [],
   "source": [
    "clean_arch_df['timestamp']=clean_arch_df['timestamp'].str[:19]        "
   ]
  },
  {
   "cell_type": "markdown",
   "metadata": {},
   "source": [
    "# test"
   ]
  },
  {
   "cell_type": "code",
   "execution_count": 113,
   "metadata": {},
   "outputs": [
    {
     "data": {
      "text/plain": [
       "0       2017-08-01 16:23:56\n",
       "1       2017-08-01 00:17:27\n",
       "2       2017-07-31 00:18:03\n",
       "3       2017-07-30 15:58:51\n",
       "4       2017-07-29 16:00:24\n",
       "               ...         \n",
       "2351    2015-11-16 00:24:50\n",
       "2352    2015-11-16 00:04:52\n",
       "2353    2015-11-15 23:21:54\n",
       "2354    2015-11-15 23:05:30\n",
       "2355    2015-11-15 22:32:08\n",
       "Name: timestamp, Length: 2356, dtype: object"
      ]
     },
     "execution_count": 113,
     "metadata": {},
     "output_type": "execute_result"
    }
   ],
   "source": [
    "clean_arch_df['timestamp']"
   ]
  },
  {
   "cell_type": "markdown",
   "metadata": {},
   "source": [
    "# define"
   ]
  },
  {
   "cell_type": "markdown",
   "metadata": {},
   "source": [
    "###### change ids to string and timestamp to datetime"
   ]
  },
  {
   "cell_type": "markdown",
   "metadata": {},
   "source": [
    "# code"
   ]
  },
  {
   "cell_type": "code",
   "execution_count": 114,
   "metadata": {},
   "outputs": [],
   "source": [
    "clean_arch_df['tweet_id']=clean_arch_df['tweet_id'].astype(str)\n",
    "img_predectins_df['tweet_id']=img_predectins_df['tweet_id'].astype(str)\n",
    "clean_tweet_info['id']=clean_tweet_info['id'].astype(str)\n",
    "clean_arch_df['timestamp'] = pd.to_datetime(clean_arch_df['timestamp'], format=\"%Y-%m-%d %H:%M:%S\")"
   ]
  },
  {
   "cell_type": "markdown",
   "metadata": {},
   "source": [
    "# test"
   ]
  },
  {
   "cell_type": "code",
   "execution_count": 115,
   "metadata": {},
   "outputs": [
    {
     "name": "stdout",
     "output_type": "stream",
     "text": [
      "object\n",
      "object\n",
      "object\n",
      "datetime64[ns]\n"
     ]
    }
   ],
   "source": [
    "print(clean_arch_df['tweet_id'].dtype)\n",
    "print(img_predectins_df['tweet_id'].dtype)\n",
    "print(clean_tweet_info['id'].dtype)\n",
    "print(clean_arch_df['timestamp'].dtype)"
   ]
  },
  {
   "cell_type": "markdown",
   "metadata": {},
   "source": [
    "# define"
   ]
  },
  {
   "cell_type": "markdown",
   "metadata": {},
   "source": [
    "###### make all names lower case"
   ]
  },
  {
   "cell_type": "markdown",
   "metadata": {},
   "source": [
    "# code"
   ]
  },
  {
   "cell_type": "code",
   "execution_count": 116,
   "metadata": {},
   "outputs": [],
   "source": [
    "clean_arch_df['name']=clean_arch_df['name'].str.lower()"
   ]
  },
  {
   "cell_type": "markdown",
   "metadata": {},
   "source": [
    "# test"
   ]
  },
  {
   "cell_type": "code",
   "execution_count": 117,
   "metadata": {},
   "outputs": [
    {
     "data": {
      "text/plain": [
       "0        phineas\n",
       "1          tilly\n",
       "2         archie\n",
       "3          darla\n",
       "4       franklin\n",
       "          ...   \n",
       "2351        none\n",
       "2352           a\n",
       "2353           a\n",
       "2354           a\n",
       "2355        none\n",
       "Name: name, Length: 2356, dtype: object"
      ]
     },
     "execution_count": 117,
     "metadata": {},
     "output_type": "execute_result"
    }
   ],
   "source": [
    "clean_arch_df['name']"
   ]
  },
  {
   "cell_type": "markdown",
   "metadata": {},
   "source": [
    "# define"
   ]
  },
  {
   "cell_type": "markdown",
   "metadata": {},
   "source": [
    "###### drop in_reply_to_status_id and retweeted_status_id"
   ]
  },
  {
   "cell_type": "markdown",
   "metadata": {},
   "source": [
    "# code"
   ]
  },
  {
   "cell_type": "code",
   "execution_count": 118,
   "metadata": {},
   "outputs": [],
   "source": [
    "#drop in_reply_to_status_id and retweeted_status_id from table \n",
    "clean_arch_df.drop(\"in_reply_to_status_id\",axis=1,inplace=True)\n",
    "clean_arch_df.drop(\"retweeted_status_id\",axis=1,inplace=True)"
   ]
  },
  {
   "cell_type": "markdown",
   "metadata": {},
   "source": [
    "# Test"
   ]
  },
  {
   "cell_type": "code",
   "execution_count": 119,
   "metadata": {
    "scrolled": true
   },
   "outputs": [
    {
     "data": {
      "text/html": [
       "<div>\n",
       "<style scoped>\n",
       "    .dataframe tbody tr th:only-of-type {\n",
       "        vertical-align: middle;\n",
       "    }\n",
       "\n",
       "    .dataframe tbody tr th {\n",
       "        vertical-align: top;\n",
       "    }\n",
       "\n",
       "    .dataframe thead th {\n",
       "        text-align: right;\n",
       "    }\n",
       "</style>\n",
       "<table border=\"1\" class=\"dataframe\">\n",
       "  <thead>\n",
       "    <tr style=\"text-align: right;\">\n",
       "      <th></th>\n",
       "      <th>tweet_id</th>\n",
       "      <th>timestamp</th>\n",
       "      <th>source</th>\n",
       "      <th>text</th>\n",
       "      <th>expanded_urls</th>\n",
       "      <th>rating_numerator</th>\n",
       "      <th>rating_denominator</th>\n",
       "      <th>name</th>\n",
       "      <th>doggo</th>\n",
       "      <th>floofer</th>\n",
       "      <th>pupper</th>\n",
       "      <th>puppo</th>\n",
       "    </tr>\n",
       "  </thead>\n",
       "  <tbody>\n",
       "    <tr>\n",
       "      <th>291</th>\n",
       "      <td>838085839343206401</td>\n",
       "      <td>2017-03-04 17:56:49</td>\n",
       "      <td>&lt;a href=\"http://twitter.com/download/iphone\" r...</td>\n",
       "      <td>@bragg6of8 @Andy_Pace_ we are still looking fo...</td>\n",
       "      <td>NaN</td>\n",
       "      <td>15</td>\n",
       "      <td>10</td>\n",
       "      <td>none</td>\n",
       "      <td>None</td>\n",
       "      <td>None</td>\n",
       "      <td>None</td>\n",
       "      <td>None</td>\n",
       "    </tr>\n",
       "    <tr>\n",
       "      <th>87</th>\n",
       "      <td>875144289856114688</td>\n",
       "      <td>2017-06-15 00:13:52</td>\n",
       "      <td>&lt;a href=\"http://twitter.com/download/iphone\" r...</td>\n",
       "      <td>Meet Nugget and Hank. Nugget took Hank's bone....</td>\n",
       "      <td>https://twitter.com/dog_rates/status/875144289...</td>\n",
       "      <td>13</td>\n",
       "      <td>10</td>\n",
       "      <td>nugget</td>\n",
       "      <td>None</td>\n",
       "      <td>None</td>\n",
       "      <td>None</td>\n",
       "      <td>None</td>\n",
       "    </tr>\n",
       "    <tr>\n",
       "      <th>2213</th>\n",
       "      <td>668567822092664832</td>\n",
       "      <td>2015-11-22 23:12:44</td>\n",
       "      <td>&lt;a href=\"http://twitter.com/download/iphone\" r...</td>\n",
       "      <td>This is Marvin. He can tie a bow tie better th...</td>\n",
       "      <td>https://twitter.com/dog_rates/status/668567822...</td>\n",
       "      <td>11</td>\n",
       "      <td>10</td>\n",
       "      <td>marvin</td>\n",
       "      <td>None</td>\n",
       "      <td>None</td>\n",
       "      <td>None</td>\n",
       "      <td>None</td>\n",
       "    </tr>\n",
       "    <tr>\n",
       "      <th>821</th>\n",
       "      <td>770293558247038976</td>\n",
       "      <td>2016-08-29 16:14:30</td>\n",
       "      <td>&lt;a href=\"http://twitter.com/download/iphone\" r...</td>\n",
       "      <td>This is Jackson. There's nothing abnormal abou...</td>\n",
       "      <td>https://twitter.com/dog_rates/status/770293558...</td>\n",
       "      <td>10</td>\n",
       "      <td>10</td>\n",
       "      <td>jackson</td>\n",
       "      <td>None</td>\n",
       "      <td>None</td>\n",
       "      <td>None</td>\n",
       "      <td>None</td>\n",
       "    </tr>\n",
       "    <tr>\n",
       "      <th>80</th>\n",
       "      <td>877316821321428993</td>\n",
       "      <td>2017-06-21 00:06:44</td>\n",
       "      <td>&lt;a href=\"http://twitter.com/download/iphone\" r...</td>\n",
       "      <td>Meet Dante. At first he wasn't a fan of his ne...</td>\n",
       "      <td>https://twitter.com/dog_rates/status/877316821...</td>\n",
       "      <td>13</td>\n",
       "      <td>10</td>\n",
       "      <td>dante</td>\n",
       "      <td>None</td>\n",
       "      <td>None</td>\n",
       "      <td>None</td>\n",
       "      <td>None</td>\n",
       "    </tr>\n",
       "    <tr>\n",
       "      <th>630</th>\n",
       "      <td>794332329137291264</td>\n",
       "      <td>2016-11-04 00:15:59</td>\n",
       "      <td>&lt;a href=\"http://twitter.com/download/iphone\" r...</td>\n",
       "      <td>This is Nimbus (like the cloud). He just bough...</td>\n",
       "      <td>https://twitter.com/dog_rates/status/794332329...</td>\n",
       "      <td>12</td>\n",
       "      <td>10</td>\n",
       "      <td>nimbus</td>\n",
       "      <td>None</td>\n",
       "      <td>None</td>\n",
       "      <td>None</td>\n",
       "      <td>None</td>\n",
       "    </tr>\n",
       "    <tr>\n",
       "      <th>2018</th>\n",
       "      <td>672139350159835138</td>\n",
       "      <td>2015-12-02 19:44:43</td>\n",
       "      <td>&lt;a href=\"http://twitter.com/download/iphone\" r...</td>\n",
       "      <td>This pup has a heart on its ass and that is do...</td>\n",
       "      <td>https://twitter.com/dog_rates/status/672139350...</td>\n",
       "      <td>12</td>\n",
       "      <td>10</td>\n",
       "      <td>none</td>\n",
       "      <td>None</td>\n",
       "      <td>None</td>\n",
       "      <td>None</td>\n",
       "      <td>None</td>\n",
       "    </tr>\n",
       "    <tr>\n",
       "      <th>1749</th>\n",
       "      <td>679047485189439488</td>\n",
       "      <td>2015-12-21 21:15:11</td>\n",
       "      <td>&lt;a href=\"http://twitter.com/download/iphone\" r...</td>\n",
       "      <td>This dog doesn't know how to stairs. Quite tra...</td>\n",
       "      <td>https://twitter.com/dog_rates/status/679047485...</td>\n",
       "      <td>9</td>\n",
       "      <td>10</td>\n",
       "      <td>none</td>\n",
       "      <td>None</td>\n",
       "      <td>None</td>\n",
       "      <td>None</td>\n",
       "      <td>None</td>\n",
       "    </tr>\n",
       "    <tr>\n",
       "      <th>1892</th>\n",
       "      <td>674754018082705410</td>\n",
       "      <td>2015-12-10 00:54:28</td>\n",
       "      <td>&lt;a href=\"http://twitter.com/download/iphone\" r...</td>\n",
       "      <td>Just received another perfect photo of dogs an...</td>\n",
       "      <td>https://twitter.com/dog_rates/status/674754018...</td>\n",
       "      <td>12</td>\n",
       "      <td>10</td>\n",
       "      <td>none</td>\n",
       "      <td>None</td>\n",
       "      <td>None</td>\n",
       "      <td>None</td>\n",
       "      <td>None</td>\n",
       "    </tr>\n",
       "    <tr>\n",
       "      <th>1090</th>\n",
       "      <td>737678689543020544</td>\n",
       "      <td>2016-05-31 16:14:39</td>\n",
       "      <td>&lt;a href=\"http://twitter.com/download/iphone\" r...</td>\n",
       "      <td>We only rate dogs. Pls stop sending in non-can...</td>\n",
       "      <td>https://twitter.com/dog_rates/status/737678689...</td>\n",
       "      <td>11</td>\n",
       "      <td>10</td>\n",
       "      <td>none</td>\n",
       "      <td>None</td>\n",
       "      <td>None</td>\n",
       "      <td>None</td>\n",
       "      <td>None</td>\n",
       "    </tr>\n",
       "    <tr>\n",
       "      <th>1599</th>\n",
       "      <td>686034024800862208</td>\n",
       "      <td>2016-01-10 03:57:12</td>\n",
       "      <td>&lt;a href=\"http://twitter.com/download/iphone\" r...</td>\n",
       "      <td>Your fav crew is back and this time they're em...</td>\n",
       "      <td>https://twitter.com/dog_rates/status/686034024...</td>\n",
       "      <td>12</td>\n",
       "      <td>10</td>\n",
       "      <td>none</td>\n",
       "      <td>None</td>\n",
       "      <td>None</td>\n",
       "      <td>None</td>\n",
       "      <td>None</td>\n",
       "    </tr>\n",
       "    <tr>\n",
       "      <th>2197</th>\n",
       "      <td>668826086256599040</td>\n",
       "      <td>2015-11-23 16:18:59</td>\n",
       "      <td>&lt;a href=\"http://twitter.com/download/iphone\" r...</td>\n",
       "      <td>This is Banditt. He is a brown LaBeouf retriev...</td>\n",
       "      <td>https://twitter.com/dog_rates/status/668826086...</td>\n",
       "      <td>10</td>\n",
       "      <td>10</td>\n",
       "      <td>banditt</td>\n",
       "      <td>None</td>\n",
       "      <td>None</td>\n",
       "      <td>None</td>\n",
       "      <td>None</td>\n",
       "    </tr>\n",
       "    <tr>\n",
       "      <th>408</th>\n",
       "      <td>823581115634085888</td>\n",
       "      <td>2017-01-23 17:20:14</td>\n",
       "      <td>&lt;a href=\"http://twitter.com/download/iphone\" r...</td>\n",
       "      <td>This is Crawford. He's quite h*ckin good at th...</td>\n",
       "      <td>https://twitter.com/dog_rates/status/823581115...</td>\n",
       "      <td>11</td>\n",
       "      <td>10</td>\n",
       "      <td>crawford</td>\n",
       "      <td>None</td>\n",
       "      <td>None</td>\n",
       "      <td>None</td>\n",
       "      <td>None</td>\n",
       "    </tr>\n",
       "    <tr>\n",
       "      <th>427</th>\n",
       "      <td>821153421864615936</td>\n",
       "      <td>2017-01-17 00:33:26</td>\n",
       "      <td>&lt;a href=\"http://twitter.com/download/iphone\" r...</td>\n",
       "      <td>@imgur for a polar bear tho I'd say 13/10 is a...</td>\n",
       "      <td>NaN</td>\n",
       "      <td>13</td>\n",
       "      <td>10</td>\n",
       "      <td>none</td>\n",
       "      <td>None</td>\n",
       "      <td>None</td>\n",
       "      <td>None</td>\n",
       "      <td>None</td>\n",
       "    </tr>\n",
       "    <tr>\n",
       "      <th>128</th>\n",
       "      <td>867774946302451713</td>\n",
       "      <td>2017-05-25 16:10:44</td>\n",
       "      <td>&lt;a href=\"http://twitter.com/download/iphone\" r...</td>\n",
       "      <td>Meet Harold.  He's h*ckin cooperative. 13/10 g...</td>\n",
       "      <td>https://twitter.com/dog_rates/status/867774946...</td>\n",
       "      <td>13</td>\n",
       "      <td>10</td>\n",
       "      <td>harold</td>\n",
       "      <td>None</td>\n",
       "      <td>None</td>\n",
       "      <td>None</td>\n",
       "      <td>None</td>\n",
       "    </tr>\n",
       "    <tr>\n",
       "      <th>1897</th>\n",
       "      <td>674737130913071104</td>\n",
       "      <td>2015-12-09 23:47:22</td>\n",
       "      <td>&lt;a href=\"http://twitter.com/download/iphone\" r...</td>\n",
       "      <td>Meet Rufio. He is unaware of the pink legless ...</td>\n",
       "      <td>https://twitter.com/dog_rates/status/674737130...</td>\n",
       "      <td>10</td>\n",
       "      <td>10</td>\n",
       "      <td>rufio</td>\n",
       "      <td>None</td>\n",
       "      <td>None</td>\n",
       "      <td>pupper</td>\n",
       "      <td>None</td>\n",
       "    </tr>\n",
       "    <tr>\n",
       "      <th>1630</th>\n",
       "      <td>684538444857667585</td>\n",
       "      <td>2016-01-06 00:54:18</td>\n",
       "      <td>&lt;a href=\"http://twitter.com/download/iphone\" r...</td>\n",
       "      <td>After watching this video, we've determined th...</td>\n",
       "      <td>https://twitter.com/dog_rates/status/684538444...</td>\n",
       "      <td>12</td>\n",
       "      <td>10</td>\n",
       "      <td>none</td>\n",
       "      <td>None</td>\n",
       "      <td>None</td>\n",
       "      <td>None</td>\n",
       "      <td>None</td>\n",
       "    </tr>\n",
       "    <tr>\n",
       "      <th>57</th>\n",
       "      <td>881268444196462592</td>\n",
       "      <td>2017-07-01 21:49:04</td>\n",
       "      <td>&lt;a href=\"http://twitter.com/download/iphone\" r...</td>\n",
       "      <td>Meet Elliot. He's a Canadian Forrest Pup. Unus...</td>\n",
       "      <td>https://twitter.com/dog_rates/status/881268444...</td>\n",
       "      <td>12</td>\n",
       "      <td>10</td>\n",
       "      <td>elliot</td>\n",
       "      <td>None</td>\n",
       "      <td>None</td>\n",
       "      <td>None</td>\n",
       "      <td>None</td>\n",
       "    </tr>\n",
       "    <tr>\n",
       "      <th>713</th>\n",
       "      <td>784183165795655680</td>\n",
       "      <td>2016-10-07 00:06:50</td>\n",
       "      <td>&lt;a href=\"http://vine.co\" rel=\"nofollow\"&gt;Vine -...</td>\n",
       "      <td>This is Reginald. He's one magical puppo. Aero...</td>\n",
       "      <td>https://vine.co/v/5ghHLBMMdlV</td>\n",
       "      <td>12</td>\n",
       "      <td>10</td>\n",
       "      <td>reginald</td>\n",
       "      <td>None</td>\n",
       "      <td>None</td>\n",
       "      <td>None</td>\n",
       "      <td>puppo</td>\n",
       "    </tr>\n",
       "    <tr>\n",
       "      <th>1053</th>\n",
       "      <td>742465774154047488</td>\n",
       "      <td>2016-06-13 21:16:49</td>\n",
       "      <td>&lt;a href=\"http://twitter.com/download/iphone\" r...</td>\n",
       "      <td>Was just informed about this hero pupper and o...</td>\n",
       "      <td>https://twitter.com/dog_rates/status/742465774...</td>\n",
       "      <td>14</td>\n",
       "      <td>10</td>\n",
       "      <td>none</td>\n",
       "      <td>None</td>\n",
       "      <td>None</td>\n",
       "      <td>pupper</td>\n",
       "      <td>None</td>\n",
       "    </tr>\n",
       "  </tbody>\n",
       "</table>\n",
       "</div>"
      ],
      "text/plain": [
       "                tweet_id           timestamp  \\\n",
       "291   838085839343206401 2017-03-04 17:56:49   \n",
       "87    875144289856114688 2017-06-15 00:13:52   \n",
       "2213  668567822092664832 2015-11-22 23:12:44   \n",
       "821   770293558247038976 2016-08-29 16:14:30   \n",
       "80    877316821321428993 2017-06-21 00:06:44   \n",
       "630   794332329137291264 2016-11-04 00:15:59   \n",
       "2018  672139350159835138 2015-12-02 19:44:43   \n",
       "1749  679047485189439488 2015-12-21 21:15:11   \n",
       "1892  674754018082705410 2015-12-10 00:54:28   \n",
       "1090  737678689543020544 2016-05-31 16:14:39   \n",
       "1599  686034024800862208 2016-01-10 03:57:12   \n",
       "2197  668826086256599040 2015-11-23 16:18:59   \n",
       "408   823581115634085888 2017-01-23 17:20:14   \n",
       "427   821153421864615936 2017-01-17 00:33:26   \n",
       "128   867774946302451713 2017-05-25 16:10:44   \n",
       "1897  674737130913071104 2015-12-09 23:47:22   \n",
       "1630  684538444857667585 2016-01-06 00:54:18   \n",
       "57    881268444196462592 2017-07-01 21:49:04   \n",
       "713   784183165795655680 2016-10-07 00:06:50   \n",
       "1053  742465774154047488 2016-06-13 21:16:49   \n",
       "\n",
       "                                                 source  \\\n",
       "291   <a href=\"http://twitter.com/download/iphone\" r...   \n",
       "87    <a href=\"http://twitter.com/download/iphone\" r...   \n",
       "2213  <a href=\"http://twitter.com/download/iphone\" r...   \n",
       "821   <a href=\"http://twitter.com/download/iphone\" r...   \n",
       "80    <a href=\"http://twitter.com/download/iphone\" r...   \n",
       "630   <a href=\"http://twitter.com/download/iphone\" r...   \n",
       "2018  <a href=\"http://twitter.com/download/iphone\" r...   \n",
       "1749  <a href=\"http://twitter.com/download/iphone\" r...   \n",
       "1892  <a href=\"http://twitter.com/download/iphone\" r...   \n",
       "1090  <a href=\"http://twitter.com/download/iphone\" r...   \n",
       "1599  <a href=\"http://twitter.com/download/iphone\" r...   \n",
       "2197  <a href=\"http://twitter.com/download/iphone\" r...   \n",
       "408   <a href=\"http://twitter.com/download/iphone\" r...   \n",
       "427   <a href=\"http://twitter.com/download/iphone\" r...   \n",
       "128   <a href=\"http://twitter.com/download/iphone\" r...   \n",
       "1897  <a href=\"http://twitter.com/download/iphone\" r...   \n",
       "1630  <a href=\"http://twitter.com/download/iphone\" r...   \n",
       "57    <a href=\"http://twitter.com/download/iphone\" r...   \n",
       "713   <a href=\"http://vine.co\" rel=\"nofollow\">Vine -...   \n",
       "1053  <a href=\"http://twitter.com/download/iphone\" r...   \n",
       "\n",
       "                                                   text  \\\n",
       "291   @bragg6of8 @Andy_Pace_ we are still looking fo...   \n",
       "87    Meet Nugget and Hank. Nugget took Hank's bone....   \n",
       "2213  This is Marvin. He can tie a bow tie better th...   \n",
       "821   This is Jackson. There's nothing abnormal abou...   \n",
       "80    Meet Dante. At first he wasn't a fan of his ne...   \n",
       "630   This is Nimbus (like the cloud). He just bough...   \n",
       "2018  This pup has a heart on its ass and that is do...   \n",
       "1749  This dog doesn't know how to stairs. Quite tra...   \n",
       "1892  Just received another perfect photo of dogs an...   \n",
       "1090  We only rate dogs. Pls stop sending in non-can...   \n",
       "1599  Your fav crew is back and this time they're em...   \n",
       "2197  This is Banditt. He is a brown LaBeouf retriev...   \n",
       "408   This is Crawford. He's quite h*ckin good at th...   \n",
       "427   @imgur for a polar bear tho I'd say 13/10 is a...   \n",
       "128   Meet Harold.  He's h*ckin cooperative. 13/10 g...   \n",
       "1897  Meet Rufio. He is unaware of the pink legless ...   \n",
       "1630  After watching this video, we've determined th...   \n",
       "57    Meet Elliot. He's a Canadian Forrest Pup. Unus...   \n",
       "713   This is Reginald. He's one magical puppo. Aero...   \n",
       "1053  Was just informed about this hero pupper and o...   \n",
       "\n",
       "                                          expanded_urls  rating_numerator  \\\n",
       "291                                                 NaN                15   \n",
       "87    https://twitter.com/dog_rates/status/875144289...                13   \n",
       "2213  https://twitter.com/dog_rates/status/668567822...                11   \n",
       "821   https://twitter.com/dog_rates/status/770293558...                10   \n",
       "80    https://twitter.com/dog_rates/status/877316821...                13   \n",
       "630   https://twitter.com/dog_rates/status/794332329...                12   \n",
       "2018  https://twitter.com/dog_rates/status/672139350...                12   \n",
       "1749  https://twitter.com/dog_rates/status/679047485...                 9   \n",
       "1892  https://twitter.com/dog_rates/status/674754018...                12   \n",
       "1090  https://twitter.com/dog_rates/status/737678689...                11   \n",
       "1599  https://twitter.com/dog_rates/status/686034024...                12   \n",
       "2197  https://twitter.com/dog_rates/status/668826086...                10   \n",
       "408   https://twitter.com/dog_rates/status/823581115...                11   \n",
       "427                                                 NaN                13   \n",
       "128   https://twitter.com/dog_rates/status/867774946...                13   \n",
       "1897  https://twitter.com/dog_rates/status/674737130...                10   \n",
       "1630  https://twitter.com/dog_rates/status/684538444...                12   \n",
       "57    https://twitter.com/dog_rates/status/881268444...                12   \n",
       "713                       https://vine.co/v/5ghHLBMMdlV                12   \n",
       "1053  https://twitter.com/dog_rates/status/742465774...                14   \n",
       "\n",
       "      rating_denominator      name doggo floofer  pupper  puppo  \n",
       "291                   10      none  None    None    None   None  \n",
       "87                    10    nugget  None    None    None   None  \n",
       "2213                  10    marvin  None    None    None   None  \n",
       "821                   10   jackson  None    None    None   None  \n",
       "80                    10     dante  None    None    None   None  \n",
       "630                   10    nimbus  None    None    None   None  \n",
       "2018                  10      none  None    None    None   None  \n",
       "1749                  10      none  None    None    None   None  \n",
       "1892                  10      none  None    None    None   None  \n",
       "1090                  10      none  None    None    None   None  \n",
       "1599                  10      none  None    None    None   None  \n",
       "2197                  10   banditt  None    None    None   None  \n",
       "408                   10  crawford  None    None    None   None  \n",
       "427                   10      none  None    None    None   None  \n",
       "128                   10    harold  None    None    None   None  \n",
       "1897                  10     rufio  None    None  pupper   None  \n",
       "1630                  10      none  None    None    None   None  \n",
       "57                    10    elliot  None    None    None   None  \n",
       "713                   10  reginald  None    None    None  puppo  \n",
       "1053                  10      none  None    None  pupper   None  "
      ]
     },
     "execution_count": 119,
     "metadata": {},
     "output_type": "execute_result"
    }
   ],
   "source": [
    "clean_arch_df.sample(20)"
   ]
  },
  {
   "cell_type": "markdown",
   "metadata": {},
   "source": [
    "# Tidyness issues"
   ]
  },
  {
   "cell_type": "markdown",
   "metadata": {},
   "source": [
    "###### create stage column"
   ]
  },
  {
   "cell_type": "code",
   "execution_count": 180,
   "metadata": {},
   "outputs": [],
   "source": [
    "clean_arch_df['stage']='None'"
   ]
  },
  {
   "cell_type": "code",
   "execution_count": 181,
   "metadata": {},
   "outputs": [
    {
     "data": {
      "text/html": [
       "<div>\n",
       "<style scoped>\n",
       "    .dataframe tbody tr th:only-of-type {\n",
       "        vertical-align: middle;\n",
       "    }\n",
       "\n",
       "    .dataframe tbody tr th {\n",
       "        vertical-align: top;\n",
       "    }\n",
       "\n",
       "    .dataframe thead th {\n",
       "        text-align: right;\n",
       "    }\n",
       "</style>\n",
       "<table border=\"1\" class=\"dataframe\">\n",
       "  <thead>\n",
       "    <tr style=\"text-align: right;\">\n",
       "      <th></th>\n",
       "      <th>tweet_id</th>\n",
       "      <th>timestamp</th>\n",
       "      <th>source</th>\n",
       "      <th>text</th>\n",
       "      <th>expanded_urls</th>\n",
       "      <th>rating_numerator</th>\n",
       "      <th>rating_denominator</th>\n",
       "      <th>name</th>\n",
       "      <th>doggo</th>\n",
       "      <th>floofer</th>\n",
       "      <th>pupper</th>\n",
       "      <th>puppo</th>\n",
       "      <th>stage</th>\n",
       "    </tr>\n",
       "  </thead>\n",
       "  <tbody>\n",
       "    <tr>\n",
       "      <th>2355</th>\n",
       "      <td>666020888022790149</td>\n",
       "      <td>2015-11-15 22:32:08</td>\n",
       "      <td>&lt;a href=\"http://twitter.com/download/iphone\" r...</td>\n",
       "      <td>Here we have a Japanese Irish Setter. Lost eye...</td>\n",
       "      <td>https://twitter.com/dog_rates/status/666020888...</td>\n",
       "      <td>8</td>\n",
       "      <td>10</td>\n",
       "      <td>none</td>\n",
       "      <td>None</td>\n",
       "      <td>None</td>\n",
       "      <td>None</td>\n",
       "      <td>None</td>\n",
       "      <td>None</td>\n",
       "    </tr>\n",
       "  </tbody>\n",
       "</table>\n",
       "</div>"
      ],
      "text/plain": [
       "                tweet_id           timestamp  \\\n",
       "2355  666020888022790149 2015-11-15 22:32:08   \n",
       "\n",
       "                                                 source  \\\n",
       "2355  <a href=\"http://twitter.com/download/iphone\" r...   \n",
       "\n",
       "                                                   text  \\\n",
       "2355  Here we have a Japanese Irish Setter. Lost eye...   \n",
       "\n",
       "                                          expanded_urls  rating_numerator  \\\n",
       "2355  https://twitter.com/dog_rates/status/666020888...                 8   \n",
       "\n",
       "      rating_denominator  name doggo floofer pupper puppo stage  \n",
       "2355                  10  none  None    None   None  None  None  "
      ]
     },
     "execution_count": 181,
     "metadata": {},
     "output_type": "execute_result"
    }
   ],
   "source": [
    "clean_arch_df.tail(1)"
   ]
  },
  {
   "cell_type": "markdown",
   "metadata": {},
   "source": [
    "# define"
   ]
  },
  {
   "cell_type": "markdown",
   "metadata": {},
   "source": [
    "###### marge doggo\tfloofer\tpupper\tpuppo into one column named stage "
   ]
  },
  {
   "cell_type": "markdown",
   "metadata": {},
   "source": [
    "# code"
   ]
  },
  {
   "cell_type": "code",
   "execution_count": 182,
   "metadata": {},
   "outputs": [],
   "source": [
    "clean_arch_df.loc[clean_arch_df['doggo']=='doggo','stage']='doggo'\n",
    "clean_arch_df.loc[clean_arch_df['floofer']=='floofer','stage']='floofer'\n",
    "clean_arch_df.loc[clean_arch_df['pupper']=='pupper','stage']='pupper'\n",
    "clean_arch_df.loc[clean_arch_df['puppo']=='puppo','stage']='puppo'\n"
   ]
  },
  {
   "cell_type": "code",
   "execution_count": 183,
   "metadata": {},
   "outputs": [],
   "source": [
    "# set stage to muliple for dogs with more than one category \n",
    "clean_arch_df.loc[(clean_arch_df['pupper']!='None')&(clean_arch_df['doggo']!='None'),'stage']='muliple'\n",
    "clean_arch_df.loc[(clean_arch_df['puppo']!='None')&(clean_arch_df['doggo']!='None'),'stage']='muliple'\n",
    "clean_arch_df.loc[(clean_arch_df['floofer']!='None')&(clean_arch_df['doggo']!='None'),'stage']='muliple'\n"
   ]
  },
  {
   "cell_type": "code",
   "execution_count": 187,
   "metadata": {},
   "outputs": [
    {
     "data": {
      "text/html": [
       "<div>\n",
       "<style scoped>\n",
       "    .dataframe tbody tr th:only-of-type {\n",
       "        vertical-align: middle;\n",
       "    }\n",
       "\n",
       "    .dataframe tbody tr th {\n",
       "        vertical-align: top;\n",
       "    }\n",
       "\n",
       "    .dataframe thead th {\n",
       "        text-align: right;\n",
       "    }\n",
       "</style>\n",
       "<table border=\"1\" class=\"dataframe\">\n",
       "  <thead>\n",
       "    <tr style=\"text-align: right;\">\n",
       "      <th></th>\n",
       "      <th>tweet_id</th>\n",
       "      <th>timestamp</th>\n",
       "      <th>source</th>\n",
       "      <th>text</th>\n",
       "      <th>expanded_urls</th>\n",
       "      <th>rating_numerator</th>\n",
       "      <th>rating_denominator</th>\n",
       "      <th>name</th>\n",
       "      <th>doggo</th>\n",
       "      <th>floofer</th>\n",
       "      <th>pupper</th>\n",
       "      <th>puppo</th>\n",
       "      <th>stage</th>\n",
       "    </tr>\n",
       "  </thead>\n",
       "  <tbody>\n",
       "    <tr>\n",
       "      <th>460</th>\n",
       "      <td>817777686764523521</td>\n",
       "      <td>2017-01-07 16:59:28</td>\n",
       "      <td>&lt;a href=\"http://twitter.com/download/iphone\" r...</td>\n",
       "      <td>This is Dido. She's playing the lead role in \"...</td>\n",
       "      <td>https://twitter.com/dog_rates/status/817777686...</td>\n",
       "      <td>13</td>\n",
       "      <td>10</td>\n",
       "      <td>dido</td>\n",
       "      <td>doggo</td>\n",
       "      <td>None</td>\n",
       "      <td>pupper</td>\n",
       "      <td>None</td>\n",
       "      <td>muliple</td>\n",
       "    </tr>\n",
       "    <tr>\n",
       "      <th>531</th>\n",
       "      <td>808106460588765185</td>\n",
       "      <td>2016-12-12 00:29:28</td>\n",
       "      <td>&lt;a href=\"http://twitter.com/download/iphone\" r...</td>\n",
       "      <td>Here we have Burke (pupper) and Dexter (doggo)...</td>\n",
       "      <td>https://twitter.com/dog_rates/status/808106460...</td>\n",
       "      <td>12</td>\n",
       "      <td>10</td>\n",
       "      <td>none</td>\n",
       "      <td>doggo</td>\n",
       "      <td>None</td>\n",
       "      <td>pupper</td>\n",
       "      <td>None</td>\n",
       "      <td>muliple</td>\n",
       "    </tr>\n",
       "    <tr>\n",
       "      <th>565</th>\n",
       "      <td>802265048156610565</td>\n",
       "      <td>2016-11-25 21:37:47</td>\n",
       "      <td>&lt;a href=\"http://twitter.com/download/iphone\" r...</td>\n",
       "      <td>Like doggo, like pupper version 2. Both 11/10 ...</td>\n",
       "      <td>https://twitter.com/dog_rates/status/802265048...</td>\n",
       "      <td>11</td>\n",
       "      <td>10</td>\n",
       "      <td>none</td>\n",
       "      <td>doggo</td>\n",
       "      <td>None</td>\n",
       "      <td>pupper</td>\n",
       "      <td>None</td>\n",
       "      <td>muliple</td>\n",
       "    </tr>\n",
       "    <tr>\n",
       "      <th>575</th>\n",
       "      <td>801115127852503040</td>\n",
       "      <td>2016-11-22 17:28:25</td>\n",
       "      <td>&lt;a href=\"http://twitter.com/download/iphone\" r...</td>\n",
       "      <td>This is Bones. He's being haunted by another d...</td>\n",
       "      <td>https://twitter.com/dog_rates/status/801115127...</td>\n",
       "      <td>12</td>\n",
       "      <td>10</td>\n",
       "      <td>bones</td>\n",
       "      <td>doggo</td>\n",
       "      <td>None</td>\n",
       "      <td>pupper</td>\n",
       "      <td>None</td>\n",
       "      <td>muliple</td>\n",
       "    </tr>\n",
       "    <tr>\n",
       "      <th>705</th>\n",
       "      <td>785639753186217984</td>\n",
       "      <td>2016-10-11 00:34:48</td>\n",
       "      <td>&lt;a href=\"http://twitter.com/download/iphone\" r...</td>\n",
       "      <td>This is Pinot. He's a sophisticated doggo. You...</td>\n",
       "      <td>https://twitter.com/dog_rates/status/785639753...</td>\n",
       "      <td>10</td>\n",
       "      <td>10</td>\n",
       "      <td>pinot</td>\n",
       "      <td>doggo</td>\n",
       "      <td>None</td>\n",
       "      <td>pupper</td>\n",
       "      <td>None</td>\n",
       "      <td>muliple</td>\n",
       "    </tr>\n",
       "    <tr>\n",
       "      <th>733</th>\n",
       "      <td>781308096455073793</td>\n",
       "      <td>2016-09-29 01:42:20</td>\n",
       "      <td>&lt;a href=\"http://vine.co\" rel=\"nofollow\"&gt;Vine -...</td>\n",
       "      <td>Pupper butt 1, Doggo 0. Both 12/10 https://t.c...</td>\n",
       "      <td>https://vine.co/v/5rgu2Law2ut</td>\n",
       "      <td>12</td>\n",
       "      <td>10</td>\n",
       "      <td>none</td>\n",
       "      <td>doggo</td>\n",
       "      <td>None</td>\n",
       "      <td>pupper</td>\n",
       "      <td>None</td>\n",
       "      <td>muliple</td>\n",
       "    </tr>\n",
       "    <tr>\n",
       "      <th>778</th>\n",
       "      <td>775898661951791106</td>\n",
       "      <td>2016-09-14 03:27:11</td>\n",
       "      <td>&lt;a href=\"http://twitter.com/download/iphone\" r...</td>\n",
       "      <td>RT @dog_rates: Like father (doggo), like son (...</td>\n",
       "      <td>https://twitter.com/dog_rates/status/733109485...</td>\n",
       "      <td>12</td>\n",
       "      <td>10</td>\n",
       "      <td>none</td>\n",
       "      <td>doggo</td>\n",
       "      <td>None</td>\n",
       "      <td>pupper</td>\n",
       "      <td>None</td>\n",
       "      <td>muliple</td>\n",
       "    </tr>\n",
       "    <tr>\n",
       "      <th>822</th>\n",
       "      <td>770093767776997377</td>\n",
       "      <td>2016-08-29 03:00:36</td>\n",
       "      <td>&lt;a href=\"http://twitter.com/download/iphone\" r...</td>\n",
       "      <td>RT @dog_rates: This is just downright precious...</td>\n",
       "      <td>https://twitter.com/dog_rates/status/741067306...</td>\n",
       "      <td>12</td>\n",
       "      <td>10</td>\n",
       "      <td>just</td>\n",
       "      <td>doggo</td>\n",
       "      <td>None</td>\n",
       "      <td>pupper</td>\n",
       "      <td>None</td>\n",
       "      <td>muliple</td>\n",
       "    </tr>\n",
       "    <tr>\n",
       "      <th>889</th>\n",
       "      <td>759793422261743616</td>\n",
       "      <td>2016-07-31 16:50:42</td>\n",
       "      <td>&lt;a href=\"http://twitter.com/download/iphone\" r...</td>\n",
       "      <td>Meet Maggie &amp;amp; Lila. Maggie is the doggo, L...</td>\n",
       "      <td>https://twitter.com/dog_rates/status/759793422...</td>\n",
       "      <td>12</td>\n",
       "      <td>10</td>\n",
       "      <td>maggie</td>\n",
       "      <td>doggo</td>\n",
       "      <td>None</td>\n",
       "      <td>pupper</td>\n",
       "      <td>None</td>\n",
       "      <td>muliple</td>\n",
       "    </tr>\n",
       "    <tr>\n",
       "      <th>956</th>\n",
       "      <td>751583847268179968</td>\n",
       "      <td>2016-07-09 01:08:47</td>\n",
       "      <td>&lt;a href=\"http://twitter.com/download/iphone\" r...</td>\n",
       "      <td>Please stop sending it pictures that don't eve...</td>\n",
       "      <td>https://twitter.com/dog_rates/status/751583847...</td>\n",
       "      <td>5</td>\n",
       "      <td>10</td>\n",
       "      <td>none</td>\n",
       "      <td>doggo</td>\n",
       "      <td>None</td>\n",
       "      <td>pupper</td>\n",
       "      <td>None</td>\n",
       "      <td>muliple</td>\n",
       "    </tr>\n",
       "    <tr>\n",
       "      <th>1063</th>\n",
       "      <td>741067306818797568</td>\n",
       "      <td>2016-06-10 00:39:48</td>\n",
       "      <td>&lt;a href=\"http://twitter.com/download/iphone\" r...</td>\n",
       "      <td>This is just downright precious af. 12/10 for ...</td>\n",
       "      <td>https://twitter.com/dog_rates/status/741067306...</td>\n",
       "      <td>12</td>\n",
       "      <td>10</td>\n",
       "      <td>just</td>\n",
       "      <td>doggo</td>\n",
       "      <td>None</td>\n",
       "      <td>pupper</td>\n",
       "      <td>None</td>\n",
       "      <td>muliple</td>\n",
       "    </tr>\n",
       "    <tr>\n",
       "      <th>1113</th>\n",
       "      <td>733109485275860992</td>\n",
       "      <td>2016-05-19 01:38:16</td>\n",
       "      <td>&lt;a href=\"http://twitter.com/download/iphone\" r...</td>\n",
       "      <td>Like father (doggo), like son (pupper). Both 1...</td>\n",
       "      <td>https://twitter.com/dog_rates/status/733109485...</td>\n",
       "      <td>12</td>\n",
       "      <td>10</td>\n",
       "      <td>none</td>\n",
       "      <td>doggo</td>\n",
       "      <td>None</td>\n",
       "      <td>pupper</td>\n",
       "      <td>None</td>\n",
       "      <td>muliple</td>\n",
       "    </tr>\n",
       "  </tbody>\n",
       "</table>\n",
       "</div>"
      ],
      "text/plain": [
       "                tweet_id           timestamp  \\\n",
       "460   817777686764523521 2017-01-07 16:59:28   \n",
       "531   808106460588765185 2016-12-12 00:29:28   \n",
       "565   802265048156610565 2016-11-25 21:37:47   \n",
       "575   801115127852503040 2016-11-22 17:28:25   \n",
       "705   785639753186217984 2016-10-11 00:34:48   \n",
       "733   781308096455073793 2016-09-29 01:42:20   \n",
       "778   775898661951791106 2016-09-14 03:27:11   \n",
       "822   770093767776997377 2016-08-29 03:00:36   \n",
       "889   759793422261743616 2016-07-31 16:50:42   \n",
       "956   751583847268179968 2016-07-09 01:08:47   \n",
       "1063  741067306818797568 2016-06-10 00:39:48   \n",
       "1113  733109485275860992 2016-05-19 01:38:16   \n",
       "\n",
       "                                                 source  \\\n",
       "460   <a href=\"http://twitter.com/download/iphone\" r...   \n",
       "531   <a href=\"http://twitter.com/download/iphone\" r...   \n",
       "565   <a href=\"http://twitter.com/download/iphone\" r...   \n",
       "575   <a href=\"http://twitter.com/download/iphone\" r...   \n",
       "705   <a href=\"http://twitter.com/download/iphone\" r...   \n",
       "733   <a href=\"http://vine.co\" rel=\"nofollow\">Vine -...   \n",
       "778   <a href=\"http://twitter.com/download/iphone\" r...   \n",
       "822   <a href=\"http://twitter.com/download/iphone\" r...   \n",
       "889   <a href=\"http://twitter.com/download/iphone\" r...   \n",
       "956   <a href=\"http://twitter.com/download/iphone\" r...   \n",
       "1063  <a href=\"http://twitter.com/download/iphone\" r...   \n",
       "1113  <a href=\"http://twitter.com/download/iphone\" r...   \n",
       "\n",
       "                                                   text  \\\n",
       "460   This is Dido. She's playing the lead role in \"...   \n",
       "531   Here we have Burke (pupper) and Dexter (doggo)...   \n",
       "565   Like doggo, like pupper version 2. Both 11/10 ...   \n",
       "575   This is Bones. He's being haunted by another d...   \n",
       "705   This is Pinot. He's a sophisticated doggo. You...   \n",
       "733   Pupper butt 1, Doggo 0. Both 12/10 https://t.c...   \n",
       "778   RT @dog_rates: Like father (doggo), like son (...   \n",
       "822   RT @dog_rates: This is just downright precious...   \n",
       "889   Meet Maggie &amp; Lila. Maggie is the doggo, L...   \n",
       "956   Please stop sending it pictures that don't eve...   \n",
       "1063  This is just downright precious af. 12/10 for ...   \n",
       "1113  Like father (doggo), like son (pupper). Both 1...   \n",
       "\n",
       "                                          expanded_urls  rating_numerator  \\\n",
       "460   https://twitter.com/dog_rates/status/817777686...                13   \n",
       "531   https://twitter.com/dog_rates/status/808106460...                12   \n",
       "565   https://twitter.com/dog_rates/status/802265048...                11   \n",
       "575   https://twitter.com/dog_rates/status/801115127...                12   \n",
       "705   https://twitter.com/dog_rates/status/785639753...                10   \n",
       "733                       https://vine.co/v/5rgu2Law2ut                12   \n",
       "778   https://twitter.com/dog_rates/status/733109485...                12   \n",
       "822   https://twitter.com/dog_rates/status/741067306...                12   \n",
       "889   https://twitter.com/dog_rates/status/759793422...                12   \n",
       "956   https://twitter.com/dog_rates/status/751583847...                 5   \n",
       "1063  https://twitter.com/dog_rates/status/741067306...                12   \n",
       "1113  https://twitter.com/dog_rates/status/733109485...                12   \n",
       "\n",
       "      rating_denominator    name  doggo floofer  pupper puppo    stage  \n",
       "460                   10    dido  doggo    None  pupper  None  muliple  \n",
       "531                   10    none  doggo    None  pupper  None  muliple  \n",
       "565                   10    none  doggo    None  pupper  None  muliple  \n",
       "575                   10   bones  doggo    None  pupper  None  muliple  \n",
       "705                   10   pinot  doggo    None  pupper  None  muliple  \n",
       "733                   10    none  doggo    None  pupper  None  muliple  \n",
       "778                   10    none  doggo    None  pupper  None  muliple  \n",
       "822                   10    just  doggo    None  pupper  None  muliple  \n",
       "889                   10  maggie  doggo    None  pupper  None  muliple  \n",
       "956                   10    none  doggo    None  pupper  None  muliple  \n",
       "1063                  10    just  doggo    None  pupper  None  muliple  \n",
       "1113                  10    none  doggo    None  pupper  None  muliple  "
      ]
     },
     "execution_count": 187,
     "metadata": {},
     "output_type": "execute_result"
    }
   ],
   "source": [
    "clean_arch_df.loc[(clean_arch_df['pupper']!='None')&(clean_arch_df['doggo']!='None')]"
   ]
  },
  {
   "cell_type": "markdown",
   "metadata": {},
   "source": [
    "# Test"
   ]
  },
  {
   "cell_type": "code",
   "execution_count": 186,
   "metadata": {},
   "outputs": [
    {
     "data": {
      "text/html": [
       "<div>\n",
       "<style scoped>\n",
       "    .dataframe tbody tr th:only-of-type {\n",
       "        vertical-align: middle;\n",
       "    }\n",
       "\n",
       "    .dataframe tbody tr th {\n",
       "        vertical-align: top;\n",
       "    }\n",
       "\n",
       "    .dataframe thead th {\n",
       "        text-align: right;\n",
       "    }\n",
       "</style>\n",
       "<table border=\"1\" class=\"dataframe\">\n",
       "  <thead>\n",
       "    <tr style=\"text-align: right;\">\n",
       "      <th></th>\n",
       "      <th>tweet_id</th>\n",
       "      <th>timestamp</th>\n",
       "      <th>source</th>\n",
       "      <th>text</th>\n",
       "      <th>expanded_urls</th>\n",
       "      <th>rating_numerator</th>\n",
       "      <th>rating_denominator</th>\n",
       "      <th>name</th>\n",
       "      <th>doggo</th>\n",
       "      <th>floofer</th>\n",
       "      <th>pupper</th>\n",
       "      <th>puppo</th>\n",
       "      <th>stage</th>\n",
       "    </tr>\n",
       "  </thead>\n",
       "  <tbody>\n",
       "    <tr>\n",
       "      <th>2009</th>\n",
       "      <td>672254177670729728</td>\n",
       "      <td>2015-12-03 03:21:00</td>\n",
       "      <td>&lt;a href=\"http://twitter.com/download/iphone\" r...</td>\n",
       "      <td>This is Rolf. He's having the time of his life...</td>\n",
       "      <td>https://twitter.com/dog_rates/status/672254177...</td>\n",
       "      <td>11</td>\n",
       "      <td>10</td>\n",
       "      <td>rolf</td>\n",
       "      <td>None</td>\n",
       "      <td>None</td>\n",
       "      <td>pupper</td>\n",
       "      <td>None</td>\n",
       "      <td>pupper</td>\n",
       "    </tr>\n",
       "    <tr>\n",
       "      <th>1398</th>\n",
       "      <td>699775878809702401</td>\n",
       "      <td>2016-02-17 02:02:25</td>\n",
       "      <td>&lt;a href=\"http://twitter.com/download/iphone\" r...</td>\n",
       "      <td>Meet Fillup. Spaghetti is his main weakness. A...</td>\n",
       "      <td>https://twitter.com/dog_rates/status/699775878...</td>\n",
       "      <td>11</td>\n",
       "      <td>10</td>\n",
       "      <td>fillup</td>\n",
       "      <td>None</td>\n",
       "      <td>None</td>\n",
       "      <td>None</td>\n",
       "      <td>None</td>\n",
       "      <td>None</td>\n",
       "    </tr>\n",
       "    <tr>\n",
       "      <th>1633</th>\n",
       "      <td>684241637099323392</td>\n",
       "      <td>2016-01-05 05:14:53</td>\n",
       "      <td>&lt;a href=\"http://twitter.com/download/iphone\" r...</td>\n",
       "      <td>This is Obi. He got camera shy. 12/10 https://...</td>\n",
       "      <td>https://twitter.com/dog_rates/status/684241637...</td>\n",
       "      <td>12</td>\n",
       "      <td>10</td>\n",
       "      <td>obi</td>\n",
       "      <td>None</td>\n",
       "      <td>None</td>\n",
       "      <td>None</td>\n",
       "      <td>None</td>\n",
       "      <td>None</td>\n",
       "    </tr>\n",
       "    <tr>\n",
       "      <th>1949</th>\n",
       "      <td>673689733134946305</td>\n",
       "      <td>2015-12-07 02:25:23</td>\n",
       "      <td>&lt;a href=\"http://twitter.com/download/iphone\" r...</td>\n",
       "      <td>When you're having a blast and remember tomorr...</td>\n",
       "      <td>https://twitter.com/dog_rates/status/673689733...</td>\n",
       "      <td>11</td>\n",
       "      <td>10</td>\n",
       "      <td>none</td>\n",
       "      <td>None</td>\n",
       "      <td>None</td>\n",
       "      <td>None</td>\n",
       "      <td>None</td>\n",
       "      <td>None</td>\n",
       "    </tr>\n",
       "    <tr>\n",
       "      <th>1187</th>\n",
       "      <td>718460005985447936</td>\n",
       "      <td>2016-04-08 15:26:28</td>\n",
       "      <td>&lt;a href=\"http://twitter.com/download/iphone\" r...</td>\n",
       "      <td>Meet Bowie. He's listening for underground squ...</td>\n",
       "      <td>https://twitter.com/dog_rates/status/718460005...</td>\n",
       "      <td>9</td>\n",
       "      <td>10</td>\n",
       "      <td>bowie</td>\n",
       "      <td>None</td>\n",
       "      <td>None</td>\n",
       "      <td>None</td>\n",
       "      <td>None</td>\n",
       "      <td>None</td>\n",
       "    </tr>\n",
       "    <tr>\n",
       "      <th>1441</th>\n",
       "      <td>696877980375769088</td>\n",
       "      <td>2016-02-09 02:07:12</td>\n",
       "      <td>&lt;a href=\"http://twitter.com/download/iphone\" r...</td>\n",
       "      <td>This is Misty. She's in a predicament. Not sur...</td>\n",
       "      <td>https://twitter.com/dog_rates/status/696877980...</td>\n",
       "      <td>9</td>\n",
       "      <td>10</td>\n",
       "      <td>misty</td>\n",
       "      <td>None</td>\n",
       "      <td>None</td>\n",
       "      <td>pupper</td>\n",
       "      <td>None</td>\n",
       "      <td>pupper</td>\n",
       "    </tr>\n",
       "    <tr>\n",
       "      <th>335</th>\n",
       "      <td>832645525019123713</td>\n",
       "      <td>2017-02-17 17:38:57</td>\n",
       "      <td>&lt;a href=\"http://twitter.com\" rel=\"nofollow\"&gt;Tw...</td>\n",
       "      <td>There's going to be a dog terminal at JFK Airp...</td>\n",
       "      <td>http://us.blastingnews.com/news/2017/02/jfk-an...</td>\n",
       "      <td>10</td>\n",
       "      <td>10</td>\n",
       "      <td>not</td>\n",
       "      <td>None</td>\n",
       "      <td>None</td>\n",
       "      <td>None</td>\n",
       "      <td>None</td>\n",
       "      <td>None</td>\n",
       "    </tr>\n",
       "    <tr>\n",
       "      <th>1046</th>\n",
       "      <td>743545585370791937</td>\n",
       "      <td>2016-06-16 20:47:36</td>\n",
       "      <td>&lt;a href=\"http://twitter.com/download/iphone\" r...</td>\n",
       "      <td>Say hello to Bentley and Millie. They do every...</td>\n",
       "      <td>https://twitter.com/dog_rates/status/743545585...</td>\n",
       "      <td>11</td>\n",
       "      <td>10</td>\n",
       "      <td>bentley</td>\n",
       "      <td>None</td>\n",
       "      <td>None</td>\n",
       "      <td>None</td>\n",
       "      <td>None</td>\n",
       "      <td>None</td>\n",
       "    </tr>\n",
       "    <tr>\n",
       "      <th>1833</th>\n",
       "      <td>676146341966438401</td>\n",
       "      <td>2015-12-13 21:07:04</td>\n",
       "      <td>&lt;a href=\"http://twitter.com/download/iphone\" r...</td>\n",
       "      <td>This is Bert. He likes flowers. 10/10 https://...</td>\n",
       "      <td>https://twitter.com/dog_rates/status/676146341...</td>\n",
       "      <td>10</td>\n",
       "      <td>10</td>\n",
       "      <td>bert</td>\n",
       "      <td>None</td>\n",
       "      <td>None</td>\n",
       "      <td>None</td>\n",
       "      <td>None</td>\n",
       "      <td>None</td>\n",
       "    </tr>\n",
       "    <tr>\n",
       "      <th>1670</th>\n",
       "      <td>682406705142087680</td>\n",
       "      <td>2015-12-31 03:43:31</td>\n",
       "      <td>&lt;a href=\"http://twitter.com/download/iphone\" r...</td>\n",
       "      <td>This is Patrick. He's a bigass pupper. 7/10 ht...</td>\n",
       "      <td>https://twitter.com/dog_rates/status/682406705...</td>\n",
       "      <td>7</td>\n",
       "      <td>10</td>\n",
       "      <td>patrick</td>\n",
       "      <td>None</td>\n",
       "      <td>None</td>\n",
       "      <td>pupper</td>\n",
       "      <td>None</td>\n",
       "      <td>pupper</td>\n",
       "    </tr>\n",
       "    <tr>\n",
       "      <th>2283</th>\n",
       "      <td>667200525029539841</td>\n",
       "      <td>2015-11-19 04:39:35</td>\n",
       "      <td>&lt;a href=\"http://twitter.com/download/iphone\" r...</td>\n",
       "      <td>This is Joshwa. He is a fuckboy supreme. He cl...</td>\n",
       "      <td>https://twitter.com/dog_rates/status/667200525...</td>\n",
       "      <td>11</td>\n",
       "      <td>10</td>\n",
       "      <td>joshwa</td>\n",
       "      <td>None</td>\n",
       "      <td>None</td>\n",
       "      <td>None</td>\n",
       "      <td>None</td>\n",
       "      <td>None</td>\n",
       "    </tr>\n",
       "    <tr>\n",
       "      <th>980</th>\n",
       "      <td>749774190421639168</td>\n",
       "      <td>2016-07-04 01:17:51</td>\n",
       "      <td>&lt;a href=\"http://twitter.com/download/iphone\" r...</td>\n",
       "      <td>This is Lucy. She's a Benebop Cumberplop. 12/1...</td>\n",
       "      <td>https://twitter.com/dog_rates/status/749774190...</td>\n",
       "      <td>12</td>\n",
       "      <td>10</td>\n",
       "      <td>lucy</td>\n",
       "      <td>None</td>\n",
       "      <td>None</td>\n",
       "      <td>None</td>\n",
       "      <td>None</td>\n",
       "      <td>None</td>\n",
       "    </tr>\n",
       "    <tr>\n",
       "      <th>77</th>\n",
       "      <td>877736472329191424</td>\n",
       "      <td>2017-06-22 03:54:17</td>\n",
       "      <td>&lt;a href=\"http://twitter.com/download/iphone\" r...</td>\n",
       "      <td>This is Aja. She was just told she's a good do...</td>\n",
       "      <td>https://twitter.com/dog_rates/status/877736472...</td>\n",
       "      <td>13</td>\n",
       "      <td>10</td>\n",
       "      <td>aja</td>\n",
       "      <td>None</td>\n",
       "      <td>None</td>\n",
       "      <td>None</td>\n",
       "      <td>None</td>\n",
       "      <td>None</td>\n",
       "    </tr>\n",
       "    <tr>\n",
       "      <th>920</th>\n",
       "      <td>756303284449767430</td>\n",
       "      <td>2016-07-22 01:42:09</td>\n",
       "      <td>&lt;a href=\"http://twitter.com/download/iphone\" r...</td>\n",
       "      <td>Pwease accept dis rose on behalf of dog. 11/10...</td>\n",
       "      <td>https://twitter.com/dog_rates/status/756303284...</td>\n",
       "      <td>11</td>\n",
       "      <td>10</td>\n",
       "      <td>none</td>\n",
       "      <td>None</td>\n",
       "      <td>None</td>\n",
       "      <td>None</td>\n",
       "      <td>None</td>\n",
       "      <td>None</td>\n",
       "    </tr>\n",
       "    <tr>\n",
       "      <th>690</th>\n",
       "      <td>787397959788929025</td>\n",
       "      <td>2016-10-15 21:01:17</td>\n",
       "      <td>&lt;a href=\"http://twitter.com/download/iphone\" r...</td>\n",
       "      <td>This is Moose. He's rather h*ckin dangerous (y...</td>\n",
       "      <td>https://twitter.com/dog_rates/status/787397959...</td>\n",
       "      <td>11</td>\n",
       "      <td>10</td>\n",
       "      <td>moose</td>\n",
       "      <td>None</td>\n",
       "      <td>None</td>\n",
       "      <td>None</td>\n",
       "      <td>None</td>\n",
       "      <td>None</td>\n",
       "    </tr>\n",
       "    <tr>\n",
       "      <th>1164</th>\n",
       "      <td>723179728551723008</td>\n",
       "      <td>2016-04-21 16:00:57</td>\n",
       "      <td>&lt;a href=\"http://twitter.com/download/iphone\" r...</td>\n",
       "      <td>This is Jangle. She's addicted to broccoli. It...</td>\n",
       "      <td>https://twitter.com/dog_rates/status/723179728...</td>\n",
       "      <td>8</td>\n",
       "      <td>10</td>\n",
       "      <td>jangle</td>\n",
       "      <td>None</td>\n",
       "      <td>None</td>\n",
       "      <td>None</td>\n",
       "      <td>None</td>\n",
       "      <td>None</td>\n",
       "    </tr>\n",
       "    <tr>\n",
       "      <th>814</th>\n",
       "      <td>771014301343748096</td>\n",
       "      <td>2016-08-31 15:58:28</td>\n",
       "      <td>&lt;a href=\"http://twitter.com/download/iphone\" r...</td>\n",
       "      <td>Another pic without a dog in it? What am I sup...</td>\n",
       "      <td>https://twitter.com/dog_rates/status/771014301...</td>\n",
       "      <td>7</td>\n",
       "      <td>10</td>\n",
       "      <td>none</td>\n",
       "      <td>None</td>\n",
       "      <td>None</td>\n",
       "      <td>None</td>\n",
       "      <td>None</td>\n",
       "      <td>None</td>\n",
       "    </tr>\n",
       "    <tr>\n",
       "      <th>2058</th>\n",
       "      <td>671347597085433856</td>\n",
       "      <td>2015-11-30 15:18:34</td>\n",
       "      <td>&lt;a href=\"http://twitter.com/download/iphone\" r...</td>\n",
       "      <td>This is Lola. She was not fully prepared for t...</td>\n",
       "      <td>https://twitter.com/dog_rates/status/671347597...</td>\n",
       "      <td>9</td>\n",
       "      <td>10</td>\n",
       "      <td>lola</td>\n",
       "      <td>None</td>\n",
       "      <td>None</td>\n",
       "      <td>None</td>\n",
       "      <td>None</td>\n",
       "      <td>None</td>\n",
       "    </tr>\n",
       "    <tr>\n",
       "      <th>1785</th>\n",
       "      <td>677644091929329666</td>\n",
       "      <td>2015-12-18 00:18:36</td>\n",
       "      <td>&lt;a href=\"http://twitter.com/download/iphone\" r...</td>\n",
       "      <td>This is a dog swinging. I really enjoyed it so...</td>\n",
       "      <td>https://twitter.com/dog_rates/status/677644091...</td>\n",
       "      <td>11</td>\n",
       "      <td>10</td>\n",
       "      <td>a</td>\n",
       "      <td>None</td>\n",
       "      <td>None</td>\n",
       "      <td>None</td>\n",
       "      <td>None</td>\n",
       "      <td>None</td>\n",
       "    </tr>\n",
       "    <tr>\n",
       "      <th>576</th>\n",
       "      <td>800859414831898624</td>\n",
       "      <td>2016-11-22 00:32:18</td>\n",
       "      <td>&lt;a href=\"http://twitter.com/download/iphone\" r...</td>\n",
       "      <td>@SkyWilliams doggo simply protecting you from ...</td>\n",
       "      <td>NaN</td>\n",
       "      <td>11</td>\n",
       "      <td>10</td>\n",
       "      <td>none</td>\n",
       "      <td>doggo</td>\n",
       "      <td>None</td>\n",
       "      <td>None</td>\n",
       "      <td>None</td>\n",
       "      <td>doggo</td>\n",
       "    </tr>\n",
       "  </tbody>\n",
       "</table>\n",
       "</div>"
      ],
      "text/plain": [
       "                tweet_id           timestamp  \\\n",
       "2009  672254177670729728 2015-12-03 03:21:00   \n",
       "1398  699775878809702401 2016-02-17 02:02:25   \n",
       "1633  684241637099323392 2016-01-05 05:14:53   \n",
       "1949  673689733134946305 2015-12-07 02:25:23   \n",
       "1187  718460005985447936 2016-04-08 15:26:28   \n",
       "1441  696877980375769088 2016-02-09 02:07:12   \n",
       "335   832645525019123713 2017-02-17 17:38:57   \n",
       "1046  743545585370791937 2016-06-16 20:47:36   \n",
       "1833  676146341966438401 2015-12-13 21:07:04   \n",
       "1670  682406705142087680 2015-12-31 03:43:31   \n",
       "2283  667200525029539841 2015-11-19 04:39:35   \n",
       "980   749774190421639168 2016-07-04 01:17:51   \n",
       "77    877736472329191424 2017-06-22 03:54:17   \n",
       "920   756303284449767430 2016-07-22 01:42:09   \n",
       "690   787397959788929025 2016-10-15 21:01:17   \n",
       "1164  723179728551723008 2016-04-21 16:00:57   \n",
       "814   771014301343748096 2016-08-31 15:58:28   \n",
       "2058  671347597085433856 2015-11-30 15:18:34   \n",
       "1785  677644091929329666 2015-12-18 00:18:36   \n",
       "576   800859414831898624 2016-11-22 00:32:18   \n",
       "\n",
       "                                                 source  \\\n",
       "2009  <a href=\"http://twitter.com/download/iphone\" r...   \n",
       "1398  <a href=\"http://twitter.com/download/iphone\" r...   \n",
       "1633  <a href=\"http://twitter.com/download/iphone\" r...   \n",
       "1949  <a href=\"http://twitter.com/download/iphone\" r...   \n",
       "1187  <a href=\"http://twitter.com/download/iphone\" r...   \n",
       "1441  <a href=\"http://twitter.com/download/iphone\" r...   \n",
       "335   <a href=\"http://twitter.com\" rel=\"nofollow\">Tw...   \n",
       "1046  <a href=\"http://twitter.com/download/iphone\" r...   \n",
       "1833  <a href=\"http://twitter.com/download/iphone\" r...   \n",
       "1670  <a href=\"http://twitter.com/download/iphone\" r...   \n",
       "2283  <a href=\"http://twitter.com/download/iphone\" r...   \n",
       "980   <a href=\"http://twitter.com/download/iphone\" r...   \n",
       "77    <a href=\"http://twitter.com/download/iphone\" r...   \n",
       "920   <a href=\"http://twitter.com/download/iphone\" r...   \n",
       "690   <a href=\"http://twitter.com/download/iphone\" r...   \n",
       "1164  <a href=\"http://twitter.com/download/iphone\" r...   \n",
       "814   <a href=\"http://twitter.com/download/iphone\" r...   \n",
       "2058  <a href=\"http://twitter.com/download/iphone\" r...   \n",
       "1785  <a href=\"http://twitter.com/download/iphone\" r...   \n",
       "576   <a href=\"http://twitter.com/download/iphone\" r...   \n",
       "\n",
       "                                                   text  \\\n",
       "2009  This is Rolf. He's having the time of his life...   \n",
       "1398  Meet Fillup. Spaghetti is his main weakness. A...   \n",
       "1633  This is Obi. He got camera shy. 12/10 https://...   \n",
       "1949  When you're having a blast and remember tomorr...   \n",
       "1187  Meet Bowie. He's listening for underground squ...   \n",
       "1441  This is Misty. She's in a predicament. Not sur...   \n",
       "335   There's going to be a dog terminal at JFK Airp...   \n",
       "1046  Say hello to Bentley and Millie. They do every...   \n",
       "1833  This is Bert. He likes flowers. 10/10 https://...   \n",
       "1670  This is Patrick. He's a bigass pupper. 7/10 ht...   \n",
       "2283  This is Joshwa. He is a fuckboy supreme. He cl...   \n",
       "980   This is Lucy. She's a Benebop Cumberplop. 12/1...   \n",
       "77    This is Aja. She was just told she's a good do...   \n",
       "920   Pwease accept dis rose on behalf of dog. 11/10...   \n",
       "690   This is Moose. He's rather h*ckin dangerous (y...   \n",
       "1164  This is Jangle. She's addicted to broccoli. It...   \n",
       "814   Another pic without a dog in it? What am I sup...   \n",
       "2058  This is Lola. She was not fully prepared for t...   \n",
       "1785  This is a dog swinging. I really enjoyed it so...   \n",
       "576   @SkyWilliams doggo simply protecting you from ...   \n",
       "\n",
       "                                          expanded_urls  rating_numerator  \\\n",
       "2009  https://twitter.com/dog_rates/status/672254177...                11   \n",
       "1398  https://twitter.com/dog_rates/status/699775878...                11   \n",
       "1633  https://twitter.com/dog_rates/status/684241637...                12   \n",
       "1949  https://twitter.com/dog_rates/status/673689733...                11   \n",
       "1187  https://twitter.com/dog_rates/status/718460005...                 9   \n",
       "1441  https://twitter.com/dog_rates/status/696877980...                 9   \n",
       "335   http://us.blastingnews.com/news/2017/02/jfk-an...                10   \n",
       "1046  https://twitter.com/dog_rates/status/743545585...                11   \n",
       "1833  https://twitter.com/dog_rates/status/676146341...                10   \n",
       "1670  https://twitter.com/dog_rates/status/682406705...                 7   \n",
       "2283  https://twitter.com/dog_rates/status/667200525...                11   \n",
       "980   https://twitter.com/dog_rates/status/749774190...                12   \n",
       "77    https://twitter.com/dog_rates/status/877736472...                13   \n",
       "920   https://twitter.com/dog_rates/status/756303284...                11   \n",
       "690   https://twitter.com/dog_rates/status/787397959...                11   \n",
       "1164  https://twitter.com/dog_rates/status/723179728...                 8   \n",
       "814   https://twitter.com/dog_rates/status/771014301...                 7   \n",
       "2058  https://twitter.com/dog_rates/status/671347597...                 9   \n",
       "1785  https://twitter.com/dog_rates/status/677644091...                11   \n",
       "576                                                 NaN                11   \n",
       "\n",
       "      rating_denominator     name  doggo floofer  pupper puppo   stage  \n",
       "2009                  10     rolf   None    None  pupper  None  pupper  \n",
       "1398                  10   fillup   None    None    None  None    None  \n",
       "1633                  10      obi   None    None    None  None    None  \n",
       "1949                  10     none   None    None    None  None    None  \n",
       "1187                  10    bowie   None    None    None  None    None  \n",
       "1441                  10    misty   None    None  pupper  None  pupper  \n",
       "335                   10      not   None    None    None  None    None  \n",
       "1046                  10  bentley   None    None    None  None    None  \n",
       "1833                  10     bert   None    None    None  None    None  \n",
       "1670                  10  patrick   None    None  pupper  None  pupper  \n",
       "2283                  10   joshwa   None    None    None  None    None  \n",
       "980                   10     lucy   None    None    None  None    None  \n",
       "77                    10      aja   None    None    None  None    None  \n",
       "920                   10     none   None    None    None  None    None  \n",
       "690                   10    moose   None    None    None  None    None  \n",
       "1164                  10   jangle   None    None    None  None    None  \n",
       "814                   10     none   None    None    None  None    None  \n",
       "2058                  10     lola   None    None    None  None    None  \n",
       "1785                  10        a   None    None    None  None    None  \n",
       "576                   10     none  doggo    None    None  None   doggo  "
      ]
     },
     "execution_count": 186,
     "metadata": {},
     "output_type": "execute_result"
    }
   ],
   "source": [
    "clean_arch_df.sample(20)"
   ]
  },
  {
   "cell_type": "code",
   "execution_count": 188,
   "metadata": {},
   "outputs": [
    {
     "data": {
      "text/plain": [
       "0"
      ]
     },
     "execution_count": 188,
     "metadata": {},
     "output_type": "execute_result"
    }
   ],
   "source": [
    "clean_arch_df.stage.isnull().sum()"
   ]
  },
  {
   "cell_type": "code",
   "execution_count": 189,
   "metadata": {},
   "outputs": [
    {
     "data": {
      "text/plain": [
       "None       1976\n",
       "pupper      245\n",
       "doggo        83\n",
       "puppo        29\n",
       "muliple      14\n",
       "floofer       9\n",
       "Name: stage, dtype: int64"
      ]
     },
     "execution_count": 189,
     "metadata": {},
     "output_type": "execute_result"
    }
   ],
   "source": [
    "clean_arch_df.stage.value_counts()"
   ]
  },
  {
   "cell_type": "markdown",
   "metadata": {},
   "source": [
    "# define"
   ]
  },
  {
   "cell_type": "markdown",
   "metadata": {},
   "source": [
    "###### drop 'doggo','floofer','pupper','puppo' columns"
   ]
  },
  {
   "cell_type": "markdown",
   "metadata": {},
   "source": [
    "# code"
   ]
  },
  {
   "cell_type": "code",
   "execution_count": 190,
   "metadata": {},
   "outputs": [],
   "source": [
    "clean_arch_df.drop(['doggo','floofer','pupper','puppo'],axis=1,inplace=True)"
   ]
  },
  {
   "cell_type": "markdown",
   "metadata": {},
   "source": [
    "# test"
   ]
  },
  {
   "cell_type": "code",
   "execution_count": 191,
   "metadata": {},
   "outputs": [
    {
     "data": {
      "text/plain": [
       "(2356, 9)"
      ]
     },
     "execution_count": 191,
     "metadata": {},
     "output_type": "execute_result"
    }
   ],
   "source": [
    "clean_arch_df.shape"
   ]
  },
  {
   "cell_type": "markdown",
   "metadata": {},
   "source": [
    "# define"
   ]
  },
  {
   "cell_type": "markdown",
   "metadata": {},
   "source": [
    "###### merge clean_tweet_info with clean_arch_info"
   ]
  },
  {
   "cell_type": "code",
   "execution_count": 192,
   "metadata": {},
   "outputs": [
    {
     "data": {
      "text/html": [
       "<div>\n",
       "<style scoped>\n",
       "    .dataframe tbody tr th:only-of-type {\n",
       "        vertical-align: middle;\n",
       "    }\n",
       "\n",
       "    .dataframe tbody tr th {\n",
       "        vertical-align: top;\n",
       "    }\n",
       "\n",
       "    .dataframe thead th {\n",
       "        text-align: right;\n",
       "    }\n",
       "</style>\n",
       "<table border=\"1\" class=\"dataframe\">\n",
       "  <thead>\n",
       "    <tr style=\"text-align: right;\">\n",
       "      <th></th>\n",
       "      <th>id</th>\n",
       "      <th>retweet_count</th>\n",
       "      <th>favorite_count</th>\n",
       "    </tr>\n",
       "  </thead>\n",
       "  <tbody>\n",
       "    <tr>\n",
       "      <th>0</th>\n",
       "      <td>892420643555336193</td>\n",
       "      <td>8853</td>\n",
       "      <td>39467</td>\n",
       "    </tr>\n",
       "  </tbody>\n",
       "</table>\n",
       "</div>"
      ],
      "text/plain": [
       "                   id  retweet_count  favorite_count\n",
       "0  892420643555336193           8853           39467"
      ]
     },
     "execution_count": 192,
     "metadata": {},
     "output_type": "execute_result"
    }
   ],
   "source": [
    "clean_tweet_info.head(1)"
   ]
  },
  {
   "cell_type": "code",
   "execution_count": 193,
   "metadata": {},
   "outputs": [
    {
     "data": {
      "text/html": [
       "<div>\n",
       "<style scoped>\n",
       "    .dataframe tbody tr th:only-of-type {\n",
       "        vertical-align: middle;\n",
       "    }\n",
       "\n",
       "    .dataframe tbody tr th {\n",
       "        vertical-align: top;\n",
       "    }\n",
       "\n",
       "    .dataframe thead th {\n",
       "        text-align: right;\n",
       "    }\n",
       "</style>\n",
       "<table border=\"1\" class=\"dataframe\">\n",
       "  <thead>\n",
       "    <tr style=\"text-align: right;\">\n",
       "      <th></th>\n",
       "      <th>tweet_id</th>\n",
       "      <th>timestamp</th>\n",
       "      <th>source</th>\n",
       "      <th>text</th>\n",
       "      <th>expanded_urls</th>\n",
       "      <th>rating_numerator</th>\n",
       "      <th>rating_denominator</th>\n",
       "      <th>name</th>\n",
       "      <th>stage</th>\n",
       "    </tr>\n",
       "  </thead>\n",
       "  <tbody>\n",
       "    <tr>\n",
       "      <th>0</th>\n",
       "      <td>892420643555336193</td>\n",
       "      <td>2017-08-01 16:23:56</td>\n",
       "      <td>&lt;a href=\"http://twitter.com/download/iphone\" r...</td>\n",
       "      <td>This is Phineas. He's a mystical boy. Only eve...</td>\n",
       "      <td>https://twitter.com/dog_rates/status/892420643...</td>\n",
       "      <td>13</td>\n",
       "      <td>10</td>\n",
       "      <td>phineas</td>\n",
       "      <td>None</td>\n",
       "    </tr>\n",
       "  </tbody>\n",
       "</table>\n",
       "</div>"
      ],
      "text/plain": [
       "             tweet_id           timestamp  \\\n",
       "0  892420643555336193 2017-08-01 16:23:56   \n",
       "\n",
       "                                              source  \\\n",
       "0  <a href=\"http://twitter.com/download/iphone\" r...   \n",
       "\n",
       "                                                text  \\\n",
       "0  This is Phineas. He's a mystical boy. Only eve...   \n",
       "\n",
       "                                       expanded_urls  rating_numerator  \\\n",
       "0  https://twitter.com/dog_rates/status/892420643...                13   \n",
       "\n",
       "   rating_denominator     name stage  \n",
       "0                  10  phineas  None  "
      ]
     },
     "execution_count": 193,
     "metadata": {},
     "output_type": "execute_result"
    }
   ],
   "source": [
    "clean_arch_df.head(1)"
   ]
  },
  {
   "cell_type": "code",
   "execution_count": 194,
   "metadata": {},
   "outputs": [
    {
     "data": {
      "text/plain": [
       "2354"
      ]
     },
     "execution_count": 194,
     "metadata": {},
     "output_type": "execute_result"
    }
   ],
   "source": [
    "clean_tweet_info.id.nunique()"
   ]
  },
  {
   "cell_type": "code",
   "execution_count": 195,
   "metadata": {},
   "outputs": [
    {
     "data": {
      "text/plain": [
       "0"
      ]
     },
     "execution_count": 195,
     "metadata": {},
     "output_type": "execute_result"
    }
   ],
   "source": [
    "clean_tweet_info.id.duplicated().sum()"
   ]
  },
  {
   "cell_type": "code",
   "execution_count": 196,
   "metadata": {},
   "outputs": [
    {
     "data": {
      "text/plain": [
       "2356"
      ]
     },
     "execution_count": 196,
     "metadata": {},
     "output_type": "execute_result"
    }
   ],
   "source": [
    "clean_arch_df.tweet_id.nunique()"
   ]
  },
  {
   "cell_type": "code",
   "execution_count": 197,
   "metadata": {},
   "outputs": [
    {
     "data": {
      "text/plain": [
       "0"
      ]
     },
     "execution_count": 197,
     "metadata": {},
     "output_type": "execute_result"
    }
   ],
   "source": [
    "clean_arch_df.tweet_id.duplicated().sum()"
   ]
  },
  {
   "cell_type": "code",
   "execution_count": 198,
   "metadata": {},
   "outputs": [
    {
     "data": {
      "text/plain": [
       "(2354, 3)"
      ]
     },
     "execution_count": 198,
     "metadata": {},
     "output_type": "execute_result"
    }
   ],
   "source": [
    "clean_tweet_info.shape"
   ]
  },
  {
   "cell_type": "code",
   "execution_count": 199,
   "metadata": {},
   "outputs": [
    {
     "data": {
      "text/plain": [
       "(2356, 9)"
      ]
     },
     "execution_count": 199,
     "metadata": {},
     "output_type": "execute_result"
    }
   ],
   "source": [
    "clean_arch_df.shape"
   ]
  },
  {
   "cell_type": "markdown",
   "metadata": {},
   "source": [
    "###### change id column name to tweet_id for merging"
   ]
  },
  {
   "cell_type": "code",
   "execution_count": 200,
   "metadata": {},
   "outputs": [],
   "source": [
    "clean_tweet_info.rename(columns={'id':'tweet_id'},inplace=True)"
   ]
  },
  {
   "cell_type": "markdown",
   "metadata": {},
   "source": [
    "# code"
   ]
  },
  {
   "cell_type": "code",
   "execution_count": 250,
   "metadata": {},
   "outputs": [],
   "source": [
    "tweet_data = pd.merge(clean_tweet_info,clean_arch_df)"
   ]
  },
  {
   "cell_type": "markdown",
   "metadata": {},
   "source": [
    "# test"
   ]
  },
  {
   "cell_type": "code",
   "execution_count": 251,
   "metadata": {},
   "outputs": [
    {
     "data": {
      "text/html": [
       "<div>\n",
       "<style scoped>\n",
       "    .dataframe tbody tr th:only-of-type {\n",
       "        vertical-align: middle;\n",
       "    }\n",
       "\n",
       "    .dataframe tbody tr th {\n",
       "        vertical-align: top;\n",
       "    }\n",
       "\n",
       "    .dataframe thead th {\n",
       "        text-align: right;\n",
       "    }\n",
       "</style>\n",
       "<table border=\"1\" class=\"dataframe\">\n",
       "  <thead>\n",
       "    <tr style=\"text-align: right;\">\n",
       "      <th></th>\n",
       "      <th>tweet_id</th>\n",
       "      <th>retweet_count</th>\n",
       "      <th>favorite_count</th>\n",
       "      <th>timestamp</th>\n",
       "      <th>source</th>\n",
       "      <th>text</th>\n",
       "      <th>expanded_urls</th>\n",
       "      <th>rating_numerator</th>\n",
       "      <th>rating_denominator</th>\n",
       "      <th>name</th>\n",
       "      <th>stage</th>\n",
       "    </tr>\n",
       "  </thead>\n",
       "  <tbody>\n",
       "    <tr>\n",
       "      <th>0</th>\n",
       "      <td>892420643555336193</td>\n",
       "      <td>8853</td>\n",
       "      <td>39467</td>\n",
       "      <td>2017-08-01 16:23:56</td>\n",
       "      <td>&lt;a href=\"http://twitter.com/download/iphone\" rel=\"nofollow\"&gt;Twitter for iPhone&lt;/a&gt;</td>\n",
       "      <td>This is Phineas. He's a mystical boy. Only ever appears in the hole of a donut. 13/10 https://t.co/MgUWQ76dJU</td>\n",
       "      <td>https://twitter.com/dog_rates/status/892420643555336193/photo/1</td>\n",
       "      <td>13</td>\n",
       "      <td>10</td>\n",
       "      <td>phineas</td>\n",
       "      <td>None</td>\n",
       "    </tr>\n",
       "    <tr>\n",
       "      <th>1</th>\n",
       "      <td>892177421306343426</td>\n",
       "      <td>6514</td>\n",
       "      <td>33819</td>\n",
       "      <td>2017-08-01 00:17:27</td>\n",
       "      <td>&lt;a href=\"http://twitter.com/download/iphone\" rel=\"nofollow\"&gt;Twitter for iPhone&lt;/a&gt;</td>\n",
       "      <td>This is Tilly. She's just checking pup on you. Hopes you're doing ok. If not, she's available for pats, snugs, boops, the whole bit. 13/10 https://t.co/0Xxu71qeIV</td>\n",
       "      <td>https://twitter.com/dog_rates/status/892177421306343426/photo/1</td>\n",
       "      <td>13</td>\n",
       "      <td>10</td>\n",
       "      <td>tilly</td>\n",
       "      <td>None</td>\n",
       "    </tr>\n",
       "    <tr>\n",
       "      <th>2</th>\n",
       "      <td>891815181378084864</td>\n",
       "      <td>4328</td>\n",
       "      <td>25461</td>\n",
       "      <td>2017-07-31 00:18:03</td>\n",
       "      <td>&lt;a href=\"http://twitter.com/download/iphone\" rel=\"nofollow\"&gt;Twitter for iPhone&lt;/a&gt;</td>\n",
       "      <td>This is Archie. He is a rare Norwegian Pouncing Corgo. Lives in the tall grass. You never know when one may strike. 12/10 https://t.co/wUnZnhtVJB</td>\n",
       "      <td>https://twitter.com/dog_rates/status/891815181378084864/photo/1</td>\n",
       "      <td>12</td>\n",
       "      <td>10</td>\n",
       "      <td>archie</td>\n",
       "      <td>None</td>\n",
       "    </tr>\n",
       "    <tr>\n",
       "      <th>3</th>\n",
       "      <td>891689557279858688</td>\n",
       "      <td>8964</td>\n",
       "      <td>42908</td>\n",
       "      <td>2017-07-30 15:58:51</td>\n",
       "      <td>&lt;a href=\"http://twitter.com/download/iphone\" rel=\"nofollow\"&gt;Twitter for iPhone&lt;/a&gt;</td>\n",
       "      <td>This is Darla. She commenced a snooze mid meal. 13/10 happens to the best of us https://t.co/tD36da7qLQ</td>\n",
       "      <td>https://twitter.com/dog_rates/status/891689557279858688/photo/1</td>\n",
       "      <td>13</td>\n",
       "      <td>10</td>\n",
       "      <td>darla</td>\n",
       "      <td>None</td>\n",
       "    </tr>\n",
       "    <tr>\n",
       "      <th>4</th>\n",
       "      <td>891327558926688256</td>\n",
       "      <td>9774</td>\n",
       "      <td>41048</td>\n",
       "      <td>2017-07-29 16:00:24</td>\n",
       "      <td>&lt;a href=\"http://twitter.com/download/iphone\" rel=\"nofollow\"&gt;Twitter for iPhone&lt;/a&gt;</td>\n",
       "      <td>This is Franklin. He would like you to stop calling him \"cute.\" He is a very fierce shark and should be respected as such. 12/10 #BarkWeek https://t.co/AtUZn91f7f</td>\n",
       "      <td>https://twitter.com/dog_rates/status/891327558926688256/photo/1,https://twitter.com/dog_rates/status/891327558926688256/photo/1</td>\n",
       "      <td>12</td>\n",
       "      <td>10</td>\n",
       "      <td>franklin</td>\n",
       "      <td>None</td>\n",
       "    </tr>\n",
       "  </tbody>\n",
       "</table>\n",
       "</div>"
      ],
      "text/plain": [
       "             tweet_id  retweet_count  favorite_count           timestamp  \\\n",
       "0  892420643555336193  8853           39467          2017-08-01 16:23:56   \n",
       "1  892177421306343426  6514           33819          2017-08-01 00:17:27   \n",
       "2  891815181378084864  4328           25461          2017-07-31 00:18:03   \n",
       "3  891689557279858688  8964           42908          2017-07-30 15:58:51   \n",
       "4  891327558926688256  9774           41048          2017-07-29 16:00:24   \n",
       "\n",
       "                                                                               source  \\\n",
       "0  <a href=\"http://twitter.com/download/iphone\" rel=\"nofollow\">Twitter for iPhone</a>   \n",
       "1  <a href=\"http://twitter.com/download/iphone\" rel=\"nofollow\">Twitter for iPhone</a>   \n",
       "2  <a href=\"http://twitter.com/download/iphone\" rel=\"nofollow\">Twitter for iPhone</a>   \n",
       "3  <a href=\"http://twitter.com/download/iphone\" rel=\"nofollow\">Twitter for iPhone</a>   \n",
       "4  <a href=\"http://twitter.com/download/iphone\" rel=\"nofollow\">Twitter for iPhone</a>   \n",
       "\n",
       "                                                                                                                                                                 text  \\\n",
       "0  This is Phineas. He's a mystical boy. Only ever appears in the hole of a donut. 13/10 https://t.co/MgUWQ76dJU                                                        \n",
       "1  This is Tilly. She's just checking pup on you. Hopes you're doing ok. If not, she's available for pats, snugs, boops, the whole bit. 13/10 https://t.co/0Xxu71qeIV   \n",
       "2  This is Archie. He is a rare Norwegian Pouncing Corgo. Lives in the tall grass. You never know when one may strike. 12/10 https://t.co/wUnZnhtVJB                    \n",
       "3  This is Darla. She commenced a snooze mid meal. 13/10 happens to the best of us https://t.co/tD36da7qLQ                                                              \n",
       "4  This is Franklin. He would like you to stop calling him \"cute.\" He is a very fierce shark and should be respected as such. 12/10 #BarkWeek https://t.co/AtUZn91f7f   \n",
       "\n",
       "                                                                                                                     expanded_urls  \\\n",
       "0  https://twitter.com/dog_rates/status/892420643555336193/photo/1                                                                   \n",
       "1  https://twitter.com/dog_rates/status/892177421306343426/photo/1                                                                   \n",
       "2  https://twitter.com/dog_rates/status/891815181378084864/photo/1                                                                   \n",
       "3  https://twitter.com/dog_rates/status/891689557279858688/photo/1                                                                   \n",
       "4  https://twitter.com/dog_rates/status/891327558926688256/photo/1,https://twitter.com/dog_rates/status/891327558926688256/photo/1   \n",
       "\n",
       "   rating_numerator  rating_denominator      name stage  \n",
       "0  13                10                  phineas   None  \n",
       "1  13                10                  tilly     None  \n",
       "2  12                10                  archie    None  \n",
       "3  13                10                  darla     None  \n",
       "4  12                10                  franklin  None  "
      ]
     },
     "execution_count": 251,
     "metadata": {},
     "output_type": "execute_result"
    }
   ],
   "source": [
    "tweet_data.head()"
   ]
  },
  {
   "cell_type": "code",
   "execution_count": 318,
   "metadata": {},
   "outputs": [],
   "source": [
    "tweet_data.to_csv('twitter_archive_master.csv',encoding='utf_8',index=False)\n"
   ]
  },
  {
   "cell_type": "markdown",
   "metadata": {},
   "source": [
    "# Analysis and visualizations"
   ]
  },
  {
   "cell_type": "code",
   "execution_count": 252,
   "metadata": {},
   "outputs": [
    {
     "data": {
      "text/plain": [
       "(2354, 11)"
      ]
     },
     "execution_count": 252,
     "metadata": {},
     "output_type": "execute_result"
    }
   ],
   "source": [
    "tweet_data.shape"
   ]
  },
  {
   "cell_type": "code",
   "execution_count": 253,
   "metadata": {},
   "outputs": [
    {
     "name": "stdout",
     "output_type": "stream",
     "text": [
      "<class 'pandas.core.frame.DataFrame'>\n",
      "Int64Index: 2354 entries, 0 to 2353\n",
      "Data columns (total 11 columns):\n",
      " #   Column              Non-Null Count  Dtype         \n",
      "---  ------              --------------  -----         \n",
      " 0   tweet_id            2354 non-null   object        \n",
      " 1   retweet_count       2354 non-null   int64         \n",
      " 2   favorite_count      2354 non-null   int64         \n",
      " 3   timestamp           2354 non-null   datetime64[ns]\n",
      " 4   source              2354 non-null   object        \n",
      " 5   text                2354 non-null   object        \n",
      " 6   expanded_urls       2295 non-null   object        \n",
      " 7   rating_numerator    2354 non-null   int64         \n",
      " 8   rating_denominator  2354 non-null   int64         \n",
      " 9   name                2354 non-null   object        \n",
      " 10  stage               2354 non-null   object        \n",
      "dtypes: datetime64[ns](1), int64(4), object(6)\n",
      "memory usage: 220.7+ KB\n"
     ]
    }
   ],
   "source": [
    "tweet_data.info()"
   ]
  },
  {
   "cell_type": "code",
   "execution_count": 254,
   "metadata": {},
   "outputs": [],
   "source": [
    "# change stage data type\n",
    "tweet_data.stage=tweet_data.stage.astype('category')"
   ]
  },
  {
   "cell_type": "code",
   "execution_count": 85,
   "metadata": {},
   "outputs": [
    {
     "data": {
      "text/plain": [
       "<a href=\"http://twitter.com/download/iphone\" rel=\"nofollow\">Twitter for iPhone</a>     2042\n",
       "<a href=\"http://vine.co\" rel=\"nofollow\">Vine - Make a Scene</a>                          91\n",
       "<a href=\"http://twitter.com\" rel=\"nofollow\">Twitter Web Client</a>                       31\n",
       "<a href=\"https://about.twitter.com/products/tweetdeck\" rel=\"nofollow\">TweetDeck</a>      11\n",
       "Name: source, dtype: int64"
      ]
     },
     "execution_count": 85,
     "metadata": {},
     "output_type": "execute_result"
    }
   ],
   "source": [
    "#witch source is most commont between tweeter users ? \n",
    "tweet_data.source.value_counts()\n",
    "# its iphone"
   ]
  },
  {
   "cell_type": "code",
   "execution_count": 257,
   "metadata": {
    "collapsed": true
   },
   "outputs": [
    {
     "ename": "IndexError",
     "evalue": "list index out of range",
     "output_type": "error",
     "traceback": [
      "\u001b[1;31m---------------------------------------------------------------------------\u001b[0m",
      "\u001b[1;31mIndexError\u001b[0m                                Traceback (most recent call last)",
      "\u001b[1;32m<ipython-input-257-a55b4660ed7b>\u001b[0m in \u001b[0;36m<module>\u001b[1;34m\u001b[0m\n\u001b[0;32m      1\u001b[0m \u001b[1;31m#clear source column from unnessessary words\u001b[0m\u001b[1;33m\u001b[0m\u001b[1;33m\u001b[0m\u001b[1;33m\u001b[0m\u001b[0m\n\u001b[1;32m----> 2\u001b[1;33m \u001b[0mtweet_data\u001b[0m\u001b[1;33m.\u001b[0m\u001b[0msource\u001b[0m\u001b[1;33m=\u001b[0m\u001b[0mtweet_data\u001b[0m\u001b[1;33m.\u001b[0m\u001b[0msource\u001b[0m\u001b[1;33m.\u001b[0m\u001b[0mapply\u001b[0m\u001b[1;33m(\u001b[0m\u001b[1;32mlambda\u001b[0m \u001b[0mx\u001b[0m\u001b[1;33m:\u001b[0m \u001b[0mx\u001b[0m\u001b[1;33m.\u001b[0m\u001b[0msplit\u001b[0m\u001b[1;33m(\u001b[0m\u001b[1;34m'>'\u001b[0m\u001b[1;33m,\u001b[0m\u001b[1;33m)\u001b[0m\u001b[1;33m[\u001b[0m\u001b[1;36m1\u001b[0m\u001b[1;33m]\u001b[0m\u001b[1;33m)\u001b[0m\u001b[1;33m\u001b[0m\u001b[1;33m\u001b[0m\u001b[0m\n\u001b[0m\u001b[0;32m      3\u001b[0m \u001b[0mtweet_data\u001b[0m\u001b[1;33m.\u001b[0m\u001b[0msource\u001b[0m\u001b[1;33m=\u001b[0m\u001b[0mtweet_data\u001b[0m\u001b[1;33m.\u001b[0m\u001b[0msource\u001b[0m\u001b[1;33m.\u001b[0m\u001b[0mapply\u001b[0m\u001b[1;33m(\u001b[0m\u001b[1;32mlambda\u001b[0m \u001b[0mx\u001b[0m\u001b[1;33m:\u001b[0m \u001b[0mx\u001b[0m\u001b[1;33m.\u001b[0m\u001b[0msplit\u001b[0m\u001b[1;33m(\u001b[0m\u001b[1;34m'<'\u001b[0m\u001b[1;33m,\u001b[0m\u001b[1;33m)\u001b[0m\u001b[1;33m[\u001b[0m\u001b[1;36m0\u001b[0m\u001b[1;33m]\u001b[0m\u001b[1;33m)\u001b[0m\u001b[1;33m\u001b[0m\u001b[1;33m\u001b[0m\u001b[0m\n\u001b[0;32m      4\u001b[0m \u001b[0mtweet_data\u001b[0m\u001b[1;33m.\u001b[0m\u001b[0msource\u001b[0m\u001b[1;33m\u001b[0m\u001b[1;33m\u001b[0m\u001b[0m\n",
      "\u001b[1;32mD:\\Anaconda_M\\lib\\site-packages\\pandas\\core\\series.py\u001b[0m in \u001b[0;36mapply\u001b[1;34m(self, func, convert_dtype, args, **kwds)\u001b[0m\n\u001b[0;32m   4198\u001b[0m             \u001b[1;32melse\u001b[0m\u001b[1;33m:\u001b[0m\u001b[1;33m\u001b[0m\u001b[1;33m\u001b[0m\u001b[0m\n\u001b[0;32m   4199\u001b[0m                 \u001b[0mvalues\u001b[0m \u001b[1;33m=\u001b[0m \u001b[0mself\u001b[0m\u001b[1;33m.\u001b[0m\u001b[0mastype\u001b[0m\u001b[1;33m(\u001b[0m\u001b[0mobject\u001b[0m\u001b[1;33m)\u001b[0m\u001b[1;33m.\u001b[0m\u001b[0m_values\u001b[0m\u001b[1;33m\u001b[0m\u001b[1;33m\u001b[0m\u001b[0m\n\u001b[1;32m-> 4200\u001b[1;33m                 \u001b[0mmapped\u001b[0m \u001b[1;33m=\u001b[0m \u001b[0mlib\u001b[0m\u001b[1;33m.\u001b[0m\u001b[0mmap_infer\u001b[0m\u001b[1;33m(\u001b[0m\u001b[0mvalues\u001b[0m\u001b[1;33m,\u001b[0m \u001b[0mf\u001b[0m\u001b[1;33m,\u001b[0m \u001b[0mconvert\u001b[0m\u001b[1;33m=\u001b[0m\u001b[0mconvert_dtype\u001b[0m\u001b[1;33m)\u001b[0m\u001b[1;33m\u001b[0m\u001b[1;33m\u001b[0m\u001b[0m\n\u001b[0m\u001b[0;32m   4201\u001b[0m \u001b[1;33m\u001b[0m\u001b[0m\n\u001b[0;32m   4202\u001b[0m         \u001b[1;32mif\u001b[0m \u001b[0mlen\u001b[0m\u001b[1;33m(\u001b[0m\u001b[0mmapped\u001b[0m\u001b[1;33m)\u001b[0m \u001b[1;32mand\u001b[0m \u001b[0misinstance\u001b[0m\u001b[1;33m(\u001b[0m\u001b[0mmapped\u001b[0m\u001b[1;33m[\u001b[0m\u001b[1;36m0\u001b[0m\u001b[1;33m]\u001b[0m\u001b[1;33m,\u001b[0m \u001b[0mSeries\u001b[0m\u001b[1;33m)\u001b[0m\u001b[1;33m:\u001b[0m\u001b[1;33m\u001b[0m\u001b[1;33m\u001b[0m\u001b[0m\n",
      "\u001b[1;32mpandas\\_libs\\lib.pyx\u001b[0m in \u001b[0;36mpandas._libs.lib.map_infer\u001b[1;34m()\u001b[0m\n",
      "\u001b[1;32m<ipython-input-257-a55b4660ed7b>\u001b[0m in \u001b[0;36m<lambda>\u001b[1;34m(x)\u001b[0m\n\u001b[0;32m      1\u001b[0m \u001b[1;31m#clear source column from unnessessary words\u001b[0m\u001b[1;33m\u001b[0m\u001b[1;33m\u001b[0m\u001b[1;33m\u001b[0m\u001b[0m\n\u001b[1;32m----> 2\u001b[1;33m \u001b[0mtweet_data\u001b[0m\u001b[1;33m.\u001b[0m\u001b[0msource\u001b[0m\u001b[1;33m=\u001b[0m\u001b[0mtweet_data\u001b[0m\u001b[1;33m.\u001b[0m\u001b[0msource\u001b[0m\u001b[1;33m.\u001b[0m\u001b[0mapply\u001b[0m\u001b[1;33m(\u001b[0m\u001b[1;32mlambda\u001b[0m \u001b[0mx\u001b[0m\u001b[1;33m:\u001b[0m \u001b[0mx\u001b[0m\u001b[1;33m.\u001b[0m\u001b[0msplit\u001b[0m\u001b[1;33m(\u001b[0m\u001b[1;34m'>'\u001b[0m\u001b[1;33m,\u001b[0m\u001b[1;33m)\u001b[0m\u001b[1;33m[\u001b[0m\u001b[1;36m1\u001b[0m\u001b[1;33m]\u001b[0m\u001b[1;33m)\u001b[0m\u001b[1;33m\u001b[0m\u001b[1;33m\u001b[0m\u001b[0m\n\u001b[0m\u001b[0;32m      3\u001b[0m \u001b[0mtweet_data\u001b[0m\u001b[1;33m.\u001b[0m\u001b[0msource\u001b[0m\u001b[1;33m=\u001b[0m\u001b[0mtweet_data\u001b[0m\u001b[1;33m.\u001b[0m\u001b[0msource\u001b[0m\u001b[1;33m.\u001b[0m\u001b[0mapply\u001b[0m\u001b[1;33m(\u001b[0m\u001b[1;32mlambda\u001b[0m \u001b[0mx\u001b[0m\u001b[1;33m:\u001b[0m \u001b[0mx\u001b[0m\u001b[1;33m.\u001b[0m\u001b[0msplit\u001b[0m\u001b[1;33m(\u001b[0m\u001b[1;34m'<'\u001b[0m\u001b[1;33m,\u001b[0m\u001b[1;33m)\u001b[0m\u001b[1;33m[\u001b[0m\u001b[1;36m0\u001b[0m\u001b[1;33m]\u001b[0m\u001b[1;33m)\u001b[0m\u001b[1;33m\u001b[0m\u001b[1;33m\u001b[0m\u001b[0m\n\u001b[0;32m      4\u001b[0m \u001b[0mtweet_data\u001b[0m\u001b[1;33m.\u001b[0m\u001b[0msource\u001b[0m\u001b[1;33m\u001b[0m\u001b[1;33m\u001b[0m\u001b[0m\n",
      "\u001b[1;31mIndexError\u001b[0m: list index out of range"
     ]
    }
   ],
   "source": [
    "#clear source column from unnessessary words\n",
    "tweet_data.source=tweet_data.source.apply(lambda x: x.split('>',)[1])\n",
    "tweet_data.source=tweet_data.source.apply(lambda x: x.split('<',)[0])\n",
    "tweet_data.source"
   ]
  },
  {
   "cell_type": "code",
   "execution_count": 256,
   "metadata": {},
   "outputs": [
    {
     "data": {
      "text/plain": [
       "2016    1182\n",
       "2015    690 \n",
       "2017    482 \n",
       "Name: timestamp, dtype: int64"
      ]
     },
     "execution_count": 256,
     "metadata": {},
     "output_type": "execute_result"
    }
   ],
   "source": [
    "#year of the highest reach \n",
    "pd.DatetimeIndex(tweet_data['timestamp']).year.value_counts()\n",
    "#2016"
   ]
  },
  {
   "cell_type": "code",
   "execution_count": 317,
   "metadata": {},
   "outputs": [
    {
     "data": {
      "text/plain": [
       "none       744\n",
       "a          55 \n",
       "charlie    12 \n",
       "lucy       11 \n",
       "cooper     11 \n",
       "           .. \n",
       "shadoe     1  \n",
       "grizzie    1  \n",
       "remus      1  \n",
       "jett       1  \n",
       "perry      1  \n",
       "Name: name, Length: 957, dtype: int64"
      ]
     },
     "execution_count": 317,
     "metadata": {},
     "output_type": "execute_result"
    }
   ],
   "source": [
    "tweet_data.name.value_counts()"
   ]
  },
  {
   "cell_type": "markdown",
   "metadata": {},
   "source": [
    "#### most common name is charlie"
   ]
  },
  {
   "cell_type": "code",
   "execution_count": 206,
   "metadata": {},
   "outputs": [],
   "source": [
    "#most loved category\n",
    "doggo_favcount=tweet_data.loc[tweet_data['stage'] == 'doggo', 'favorite_count'].sum()\n",
    "floofer_favcount=tweet_data.loc[tweet_data['stage'] == 'floofer', 'favorite_count'].sum()\n",
    "puppo_favcount=tweet_data.loc[tweet_data['stage'] == 'puppo', 'favorite_count'].sum()\n",
    "pupper_favcount=tweet_data.loc[tweet_data['stage'] == 'pupper', 'favorite_count'].sum()\n",
    "muliple_favcount=tweet_data.loc[tweet_data['stage'] == 'muliple', 'favorite_count'].sum()\n"
   ]
  },
  {
   "cell_type": "markdown",
   "metadata": {},
   "source": [
    "#### pupper"
   ]
  },
  {
   "cell_type": "code",
   "execution_count": 259,
   "metadata": {},
   "outputs": [
    {
     "data": {
      "text/plain": [
       "185784"
      ]
     },
     "execution_count": 259,
     "metadata": {},
     "output_type": "execute_result"
    }
   ],
   "source": [
    "muliple_favcount"
   ]
  },
  {
   "cell_type": "code",
   "execution_count": 260,
   "metadata": {},
   "outputs": [],
   "source": [
    "doggo_recount=tweet_data.loc[tweet_data['stage'] == 'doggo', 'retweet_count'].sum()\n",
    "floofer_recount=tweet_data.loc[tweet_data['stage'] == 'floofer', 'retweet_count'].sum()\n",
    "puppo_recount=tweet_data.loc[tweet_data['stage'] == 'puppo', 'retweet_count'].sum()\n",
    "pupper_recount=tweet_data.loc[tweet_data['stage'] == 'pupper', 'retweet_count'].sum()\n",
    "muliple_recount=tweet_data.loc[tweet_data['stage'] == 'muliple', 'retweet_count'].sum()"
   ]
  },
  {
   "cell_type": "code",
   "execution_count": 261,
   "metadata": {},
   "outputs": [
    {
     "name": "stdout",
     "output_type": "stream",
     "text": [
      "83482\n"
     ]
    }
   ],
   "source": [
    "print(muliple_recount)"
   ]
  },
  {
   "cell_type": "code",
   "execution_count": 312,
   "metadata": {},
   "outputs": [
    {
     "data": {
      "text/plain": [
       "Text(0.5, 1.0, 'most common category')"
      ]
     },
     "execution_count": 312,
     "metadata": {},
     "output_type": "execute_result"
    },
    {
     "data": {
      "image/png": "[encoded data removed]",
      "text/plain": [
       "<Figure size 432x288 with 1 Axes>"
      ]
     },
     "metadata": {
      "needs_background": "light"
     },
     "output_type": "display_data"
    }
   ],
   "source": [
    "category = ['doggo','floofer','puppo','pupper','muliple']\n",
    "retweet_count = [doggo_recount,floofer_recount,puppo_recount,pupper_recount,muliple_recount]\n",
    "fav_count=[doggo_favcount,floofer_favcount,puppo_favcount,pupper_favcount,muliple_favcount]\n",
    "\n",
    "df = pd.DataFrame({'retweet_count':retweet_count,'fav_count':fav_count},index=category)\n",
    "\n",
    "reach=df.plot.bar(rot=0)\n",
    "reach.set_xlabel('categorys')\n",
    "reach.set_ylabel('reach')\n",
    "reach.set_title(\"most common category\")"
   ]
  },
  {
   "cell_type": "code",
   "execution_count": 322,
   "metadata": {},
   "outputs": [
    {
     "data": {
      "text/plain": [
       "<AxesSubplot:title={'center':'top dogs ratings'}, xlabel='ratings', ylabel='num of dogs'>"
      ]
     },
     "execution_count": 322,
     "metadata": {},
     "output_type": "execute_result"
    },
    {
     "data": {
      "image/png": "[encoded data removed]",
      "text/plain": [
       "<Figure size 1080x576 with 1 Axes>"
      ]
     },
     "metadata": {
      "needs_background": "light"
     },
     "output_type": "display_data"
    }
   ],
   "source": [
    "tweet_data.rating_numerator.value_counts().sort_index().plot(kind='bar',xlabel='ratings',ylabel='num of dogs',figsize=(15, 8),title='top dogs ratings')\n"
   ]
  },
  {
   "cell_type": "code",
   "execution_count": 305,
   "metadata": {},
   "outputs": [
    {
     "data": {
      "text/plain": [
       "12.00      557\n",
       "11.00      464\n",
       "10.00      461\n",
       "13.00      350\n",
       "9.00       158\n",
       "8.00       102\n",
       "7.00       55 \n",
       "14.00      54 \n",
       "5.00       35 \n",
       "6.00       32 \n",
       "3.00       19 \n",
       "4.00       17 \n",
       "2.00       9  \n",
       "1.00       9  \n",
       "0.00       2  \n",
       "420.00     2  \n",
       "9.75       2  \n",
       "15.00      2  \n",
       "960.00     1  \n",
       "84.00      1  \n",
       "24.00      1  \n",
       "17.00      1  \n",
       "13.50      1  \n",
       "143.00     1  \n",
       "121.00     1  \n",
       "80.00      1  \n",
       "182.00     1  \n",
       "165.00     1  \n",
       "45.00      1  \n",
       "204.00     1  \n",
       "1776.00    1  \n",
       "666.00     1  \n",
       "99.00      1  \n",
       "11.27      1  \n",
       "11.26      1  \n",
       "88.00      1  \n",
       "144.00     1  \n",
       "9.50       1  \n",
       "20.00      1  \n",
       "44.00      1  \n",
       "60.00      1  \n",
       "50.00      1  \n",
       "Name: rating_numerator, dtype: int64"
      ]
     },
     "execution_count": 305,
     "metadata": {},
     "output_type": "execute_result"
    }
   ],
   "source": [
    "tweet_data.rating_numerator.value_counts()"
   ]
  },
  {
   "cell_type": "markdown",
   "metadata": {},
   "source": [
    "# define"
   ]
  },
  {
   "cell_type": "markdown",
   "metadata": {},
   "source": [
    "###### some rating_numerators have been extracted from text wrongly as shown below"
   ]
  },
  {
   "cell_type": "code",
   "execution_count": 231,
   "metadata": {},
   "outputs": [
    {
     "data": {
      "text/plain": [
       "44      This is Bella. She hopes her smile made you smile. If not, she is also offering you her favorite monkey. 13.5/10 https://t.co/qjrljjt948                         \n",
       "258     This is Tycho. She just had new wheels installed. About to do a zoom. 0-60 in 2.4 seconds. 13/10 inspirational as h*ck https://t.co/DKwp2ByMsL                   \n",
       "339     RT @dog_rates: This is Logan, the Chow who lived. He solemnly swears he's up to lots of good. H*ckin magical af 9.75/10 https://t.co/yBO5wu…                     \n",
       "694     This is Logan, the Chow who lived. He solemnly swears he's up to lots of good. H*ckin magical af 9.75/10 https://t.co/yBO5wuqaPS                                 \n",
       "762     This is Sophie. She's a Jubilant Bush Pupper. Super h*ckin rare. Appears at random just to smile at the locals. 11.27/10 would smile back https://t.co/QFaUiIHxHq\n",
       "1016    Guys... Dog Jesus 2.0\\n13/10 buoyant af https://t.co/CuNA7OwfKQ                                                                                                  \n",
       "1292    This is Farfle. He lost his back legs during the Battle of Gettysburg. Goes 0-60 in 4.3 seconds (damn) 12/10 hero af https://t.co/NiQQWzIzzq                     \n",
       "1687    I've been told there's a slight possibility he's checking his mirror. We'll bump to 9.5/10. Still a menace                                                       \n",
       "1710    Here we have uncovered an entire battalion of holiday puppers. Average of 11.26/10 https://t.co/eNm2S6p9BD                                                       \n",
       "1766    This is Bella. She just learned that her final grade in chem was a 92.49 \\npoor pupper 11/10 https://t.co/auOoKuoveM                                             \n",
       "1788    Say hello to Axel. He's a Black Chevy Pinot on wheels. 0 to 60 in 5.7 seconds (if downhill). 9/10 I call shotgun https://t.co/DKe9DBnnHE                         \n",
       "2345    My oh my. This is a rare blond Canadian terrier on wheels. Only $8.98. Rather docile. 9/10 very rare https://t.co/yWBqbrzy8O                                     \n",
       "Name: text, dtype: object"
      ]
     },
     "execution_count": 231,
     "metadata": {},
     "output_type": "execute_result"
    }
   ],
   "source": [
    "# configuration to show full text\n",
    "#pd.set_option('display.max_colwidth', -1)\n",
    "# filter only tweets with decimal numbers \n",
    "tweet_data[tweet_data.text.str.extract(r'(\\d+\\.\\d+)', expand=False).notnull()].text"
   ]
  },
  {
   "cell_type": "markdown",
   "metadata": {},
   "source": [
    "# code "
   ]
  },
  {
   "cell_type": "code",
   "execution_count": 298,
   "metadata": {},
   "outputs": [],
   "source": [
    "# change rating_numerator to the correct rate\n",
    "tweet_data.loc[1710,'rating_numerator']=11.26"
   ]
  },
  {
   "cell_type": "markdown",
   "metadata": {},
   "source": [
    "# test"
   ]
  },
  {
   "cell_type": "code",
   "execution_count": 303,
   "metadata": {},
   "outputs": [
    {
     "data": {
      "text/html": [
       "<div>\n",
       "<style scoped>\n",
       "    .dataframe tbody tr th:only-of-type {\n",
       "        vertical-align: middle;\n",
       "    }\n",
       "\n",
       "    .dataframe tbody tr th {\n",
       "        vertical-align: top;\n",
       "    }\n",
       "\n",
       "    .dataframe thead th {\n",
       "        text-align: right;\n",
       "    }\n",
       "</style>\n",
       "<table border=\"1\" class=\"dataframe\">\n",
       "  <thead>\n",
       "    <tr style=\"text-align: right;\">\n",
       "      <th></th>\n",
       "      <th>tweet_id</th>\n",
       "      <th>retweet_count</th>\n",
       "      <th>favorite_count</th>\n",
       "      <th>timestamp</th>\n",
       "      <th>source</th>\n",
       "      <th>text</th>\n",
       "      <th>expanded_urls</th>\n",
       "      <th>rating_numerator</th>\n",
       "      <th>rating_denominator</th>\n",
       "      <th>name</th>\n",
       "      <th>stage</th>\n",
       "    </tr>\n",
       "  </thead>\n",
       "  <tbody>\n",
       "    <tr>\n",
       "      <th>1710</th>\n",
       "      <td>680494726643068929</td>\n",
       "      <td>542</td>\n",
       "      <td>1879</td>\n",
       "      <td>2015-12-25 21:06:00</td>\n",
       "      <td>Twitter for iPhone</td>\n",
       "      <td>Here we have uncovered an entire battalion of holiday puppers. Average of 11.26/10 https://t.co/eNm2S6p9BD</td>\n",
       "      <td>https://twitter.com/dog_rates/status/680494726643068929/photo/1</td>\n",
       "      <td>11.26</td>\n",
       "      <td>10</td>\n",
       "      <td>none</td>\n",
       "      <td>None</td>\n",
       "    </tr>\n",
       "  </tbody>\n",
       "</table>\n",
       "</div>"
      ],
      "text/plain": [
       "                tweet_id  retweet_count  favorite_count           timestamp  \\\n",
       "1710  680494726643068929  542            1879           2015-12-25 21:06:00   \n",
       "\n",
       "                  source  \\\n",
       "1710  Twitter for iPhone   \n",
       "\n",
       "                                                                                                            text  \\\n",
       "1710  Here we have uncovered an entire battalion of holiday puppers. Average of 11.26/10 https://t.co/eNm2S6p9BD   \n",
       "\n",
       "                                                        expanded_urls  \\\n",
       "1710  https://twitter.com/dog_rates/status/680494726643068929/photo/1   \n",
       "\n",
       "      rating_numerator  rating_denominator  name stage  \n",
       "1710  11.26             10                  none  None  "
      ]
     },
     "execution_count": 303,
     "metadata": {},
     "output_type": "execute_result"
    }
   ],
   "source": [
    "tweet_data.loc[[1710]]"
   ]
  },
  {
   "cell_type": "code",
   "execution_count": null,
   "metadata": {},
   "outputs": [],
   "source": []
  }
 ],
 "metadata": {
  "kernelspec": {
   "display_name": "Python 3",
   "language": "python",
   "name": "python3"
  },
  "language_info": {
   "codemirror_mode": {
    "name": "ipython",
    "version": 3
   },
   "file_extension": ".py",
   "mimetype": "text/x-python",
   "name": "python",
   "nbconvert_exporter": "python",
   "pygments_lexer": "ipython3",
   "version": "3.8.5"
  }
 },
 "nbformat": 4,
 "nbformat_minor": 4
}
